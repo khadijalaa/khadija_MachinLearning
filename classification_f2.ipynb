{
  "nbformat": 4,
  "nbformat_minor": 0,
  "metadata": {
    "colab": {
      "name": "classification_f2.ipynb",
      "provenance": [],
      "collapsed_sections": []
    },
    "kernelspec": {
      "name": "python3",
      "display_name": "Python 3"
    },
    "language_info": {
      "name": "python"
    }
  },
  "cells": [
    {
      "cell_type": "code",
      "metadata": {
        "id": "d6HgC5LtfOmc"
      },
      "source": [
        "import scipy\n",
        "import sklearn\n",
        "#import matplotlib as plt\n",
        "import matplotlib.pyplot as plt\n",
        "import numpy as np\n",
        "import math as m\n",
        "import pandas as pd\n",
        "import os\n",
        "from python_speech_features import mfcc\n",
        "from python_speech_features import logfbank\n",
        "import scipy.io.wavfile as wav\n",
        "from sklearn.metrics import precision_recall_curve\n",
        "from sklearn.metrics import f1_score\n",
        "from sklearn.metrics import mean_squared_error,confusion_matrix,classification_report\n",
        "import csv\n",
        "from sklearn.metrics import ConfusionMatrixDisplay\n",
        "from scipy import signal, ndimage\n",
        "from scipy.io.wavfile import read\n",
        "from scipy.signal import periodogram\n",
        "from scipy.ndimage import median_filter\n",
        "from matplotlib import pyplot\n",
        "from numpy import trapz\n",
        "from sklearn.preprocessing import MinMaxScaler\n",
        "from sklearn.feature_selection import RFE\n",
        "from sklearn.ensemble import RandomForestClassifier\n",
        "from sklearn.model_selection import StratifiedKFold\n",
        "from sklearn.metrics import accuracy_score\n",
        "from sklearn.model_selection import train_test_split\n",
        "from sklearn.model_selection import GridSearchCV\n",
        "from sklearn import svm\n",
        "from sklearn.tree import  DecisionTreeClassifier\n",
        "from python_speech_features import mfcc\n",
        "from sklearn.metrics import mean_squared_error,confusion_matrix,classification_report\n",
        "from google.colab import drive ## If running on google colab\n",
        "from sklearn.feature_selection import RFE\n",
        "from sklearn.ensemble import RandomForestClassifier\n",
        "from sklearn.model_selection import StratifiedKFold\n",
        "from sklearn.metrics import accuracy_score\n",
        "from sklearn.model_selection import train_test_split\n",
        "from sklearn.model_selection import GridSearchCV\n",
        "from sklearn import svm\n",
        "from sklearn.tree import  DecisionTreeClassifier\n",
        "from sklearn.model_selection import cross_val_score, KFold\n",
        "from sklearn.model_selection import cross_val_predict\n",
        "from sklearn.svm import SVC,LinearSVC"
      ],
      "execution_count": 200,
      "outputs": []
    },
    {
      "cell_type": "code",
      "metadata": {
        "colab": {
          "base_uri": "https://localhost:8080/"
        },
        "id": "Dn226ONqfq3X",
        "outputId": "5c436f1b-b422-4403-f8f1-7d96cd23f514"
      },
      "source": [
        "drive.mount('/content/drive/')"
      ],
      "execution_count": null,
      "outputs": [
        {
          "output_type": "stream",
          "name": "stdout",
          "text": [
            "Mounted at /content/drive/\n"
          ]
        }
      ]
    },
    {
      "cell_type": "code",
      "metadata": {
        "id": "HIHOPA20gBRh"
      },
      "source": [
        "def segment_cough(x,fs, cough_padding=0.1,min_cough_len=0.2, th_l_multiplier = 0.1, th_h_multiplier = 2):\n",
        "    \"\"\"Preprocess the data by segmenting each file into individual coughs using a hysteresis comparator on the signal power\n",
        "    \n",
        "    Inputs:\n",
        "    *x (np.array): cough signal\n",
        "    *fs (float): sampling frequency in Hz\n",
        "    *cough_padding (float): number of seconds added to the beginning and end of each detected cough to make sure coughs are not cut short\n",
        "    *min_cough_length (float): length of the minimum possible segment that can be considered a cough\n",
        "    *th_l_multiplier (float): multiplier of the RMS energy used as a lower threshold of the hysteresis comparator\n",
        "    *th_h_multiplier (float): multiplier of the RMS energy used as a high threshold of the hysteresis comparator\n",
        "    \n",
        "    Outputs:\n",
        "    *coughSegments (np.array of np.arrays): a list of cough signal arrays corresponding to each cough\n",
        "    cough_mask (np.array): an array of booleans that are True at the indices where a cough is in progress\"\"\"\n",
        "                \n",
        "    cough_mask = np.array([False]*len(x))\n",
        "    \n",
        "\n",
        "    #Define hysteresis thresholds\n",
        "    rms = np.sqrt(np.mean(np.square(x)))\n",
        "    seg_th_l = th_l_multiplier * rms\n",
        "    seg_th_h =  th_h_multiplier*rms\n",
        "\n",
        "    #Segment coughs\n",
        "    coughSegments = []\n",
        "    padding = round(fs*cough_padding)\n",
        "    min_cough_samples = round(fs*min_cough_len)\n",
        "    cough_start = 0\n",
        "    cough_end = 0\n",
        "    cough_in_progress = False\n",
        "    tolerance = round(0.01*fs)\n",
        "    below_th_counter = 0\n",
        "    \n",
        "    for i, sample in enumerate(x**2):\n",
        "        if cough_in_progress:\n",
        "            if sample<seg_th_l:\n",
        "                below_th_counter += 1\n",
        "                if below_th_counter > tolerance:\n",
        "                    cough_end = i+padding if (i+padding < len(x)) else len(x)-1\n",
        "                    cough_in_progress = False\n",
        "                    if (cough_end+1-cough_start-2*padding>min_cough_samples):\n",
        "                        coughSegments.append(x[cough_start:cough_end+1])\n",
        "                        cough_mask[cough_start:cough_end+1] = True\n",
        "            elif i == (len(x)-1):\n",
        "                cough_end=i\n",
        "                cough_in_progress = False\n",
        "                if (cough_end+1-cough_start-2*padding>min_cough_samples):\n",
        "                    coughSegments.append(x[cough_start:cough_end+1])\n",
        "            else:\n",
        "                below_th_counter = 0\n",
        "        else:\n",
        "            if sample>seg_th_h:\n",
        "                cough_start = i-padding if (i-padding >=0) else 0\n",
        "                cough_in_progress = True\n",
        "    \n",
        "    return coughSegments, cough_mask\n"
      ],
      "execution_count": null,
      "outputs": []
    },
    {
      "cell_type": "code",
      "metadata": {
        "id": "luT5NFVJCHaS"
      },
      "source": [
        "\n",
        "filepath='/content/drive/MyDrive/Colab Notebooks/prosjektOppgaveHoost/public_dataset_Unzipped/public_dataset/'\n",
        "df = pd.read_csv(filepath + 'metadata_compiled.csv')\n",
        "names_to_convert = df.uuid.to_numpy()\n",
        "with open(filepath + 'metadata_compiled.csv', 'rt') as f:\n",
        "    reader = csv.reader(f)\n",
        "    public_data = list(reader)"
      ],
      "execution_count": null,
      "outputs": []
    },
    {
      "cell_type": "code",
      "metadata": {
        "colab": {
          "base_uri": "https://localhost:8080/"
        },
        "id": "BGx-XwjSgoGN",
        "outputId": "d786afae-f144-402b-b4ad-78cfa6fe68d6"
      },
      "source": [
        "\n",
        "dst_C_H='/content/drive/MyDrive/Colab Notebooks/prosjektOppgaveHoost/public_dataset_Unzipped/verified_wav_COVID_HEALTHY/'\n",
        "all_features=[0]*78\n",
        "features=[]\n",
        "labelVector=[]\n",
        "feature_filename=[]\n",
        "COVID=1\n",
        "HEALTHY=0\n",
        "s=0\n",
        "index_name=public_data[0].index('uuid')\n",
        "index_status=public_data[0].index('status')\n",
        "for filename in os.listdir(dst_C_H):\n",
        "  if os.path.isfile(dst_C_H+filename):\n",
        "    if (filename[-4:])==\".wav\":\n",
        "      all_segments=[]\n",
        "      features=[]\n",
        "      mfcc_feat=[]\n",
        "      mfcc_std=[]\n",
        "      mfcc_mean=[]\n",
        "      delta_feat=[]\n",
        "      delta_mean=[]\n",
        "      delta_std=[]\n",
        "      delta_delta_feat=[]\n",
        "      delta_delta_mean=[]\n",
        "      delta_delta_std=[]\n",
        "      f_down=20000\n",
        "      fs, signal = wav.read(dst_C_H+filename)\n",
        "      down=scipy.signal.decimate(signal, 2) #downsampling\n",
        "      norm=2.*(down - np.min(down))/np.ptp(down)-1 #normalizing\n",
        "      segment,mask=segment_cough(norm,f_down, cough_padding=0.1,min_cough_len=0.1, th_l_multiplier = 0.00000001, th_h_multiplier = 0.000002)\n",
        "      if len(segment)>1:\n",
        "        for line in segment:\n",
        "          all_segments=np.append(all_segments,line) #all the segments in one row from each file, one segment=one cough \n",
        "      elif len(segment)==1:\n",
        "        all_segments=np.array(segment[0])\n",
        "      mfcc_feat=mfcc(all_segments,samplerate=f_down,winlen=0.025, winstep=0.01, numcep=13, lowfreq=0, highfreq=10000)\n",
        "      #print(mfcc_feat.shape)\n",
        "      mfcc_mean=mfcc_feat.mean(axis=0)\n",
        "      #print(mfcc_mean[0])\n",
        "      mfcc_std=mfcc_feat.std(axis=0)\n",
        "      #print(mfcc_std[0])\n",
        "      delta_feat=delta(mfcc_feat,2)\n",
        "      delta_mean=delta_feat.mean(axis=0)\n",
        "      delta_std=delta_feat.std(axis=0)\n",
        "      delta_delta_feat=delta(delta_feat,2)\n",
        "      delta_delta_mean=delta_delta_feat.mean(axis=0)\n",
        "      #print(delta_delta_mean[0])\n",
        "      delta_delta_std=delta_delta_feat.std(axis=0)\n",
        "      features.append(mfcc_mean)\n",
        "      features.append(mfcc_std)\n",
        "      features.append(delta_mean)\n",
        "      features.append(delta_std)\n",
        "      features.append(delta_delta_mean)\n",
        "      features.append(delta_delta_std)\n",
        "      features_flat_list=[]\n",
        "      for i in range(6):\n",
        "        for j in range(13):\n",
        "          features_flat_list.append(features[i][j])\n",
        "      all_features=np.vstack((all_features,features_flat_list))\n",
        "      for i in range(1,len(public_data)):\n",
        "        if public_data[i][index_name]==filename[:36]:\n",
        "          if public_data[i][index_status]=='COVID-19':\n",
        "            labelVector.append(COVID)\n",
        "          elif public_data[i][index_status]=='healthy':\n",
        "            labelVector.append(HEALTHY)\n",
        "      feature_filename.append(filename)\n",
        "    "
      ],
      "execution_count": 221,
      "outputs": [
        {
          "output_type": "stream",
          "name": "stderr",
          "text": [
            "/usr/local/lib/python3.7/dist-packages/ipykernel_launcher.py:27: WavFileWarning: Reached EOF prematurely; finished at 393216 bytes, expected 956238 bytes from header.\n"
          ]
        }
      ]
    },
    {
      "cell_type": "code",
      "metadata": {
        "colab": {
          "base_uri": "https://localhost:8080/"
        },
        "id": "I2fg2Dg5EEiH",
        "outputId": "11ea36df-b63a-4820-85f9-d97ec1253ebc"
      },
      "source": [
        "all_Features=all_features[1:][:] #remove the zeros in the beginning\n",
        "print(all_Features.shape)\n",
        "print(len(labelVector))\n",
        "print(len(feature_filename))\n",
        "print(all_Features)"
      ],
      "execution_count": 223,
      "outputs": [
        {
          "output_type": "stream",
          "name": "stdout",
          "text": [
            "(1270, 78)\n",
            "1270\n",
            "1270\n",
            "[[-5.90237471  6.96195657 -1.02203883 ...  0.99949808  1.06252649\n",
            "   0.94892815]\n",
            " [-4.63261706 14.27575969 -3.62142677 ...  0.92095601  1.03244177\n",
            "   0.91029598]\n",
            " [-6.13087923  8.31417478 -0.28729853 ...  0.96745356  0.77489831\n",
            "   0.70837296]\n",
            " ...\n",
            " [-7.04196348 11.19532676  1.00087839 ...  0.846076    0.98039494\n",
            "   0.70823265]\n",
            " [-7.18191149  9.83627494 -2.54910039 ...  0.80276613  0.86239416\n",
            "   0.69793116]\n",
            " [-7.91891116  8.02625397 -3.16681867 ...  0.89494297  1.05719039\n",
            "   0.86757777]]\n"
          ]
        }
      ]
    },
    {
      "cell_type": "code",
      "metadata": {
        "id": "1ejRqP4gDGer"
      },
      "source": [
        "filename_feature= np.column_stack((feature_filename,all_Features))\n",
        "metadata_features=np.column_stack((filename_feature,labelVector))\n",
        "os.chdir('/content/drive/MyDrive/Colab Notebooks/prosjektOppgaveHoost/public_dataset_Unzipped')\n",
        "pd.DataFrame(metadata_features).to_csv('features_2_wp.csv')"
      ],
      "execution_count": 224,
      "outputs": []
    },
    {
      "cell_type": "code",
      "metadata": {
        "colab": {
          "base_uri": "https://localhost:8080/"
        },
        "id": "BcyXqLlqoFxC",
        "outputId": "c3ce8531-4870-475f-e9e3-fcc7ad429101"
      },
      "source": [
        "from sklearn.preprocessing import StandardScaler\n",
        "scaler=StandardScaler()\n",
        "scalerAndFit=scaler.fit_transform(all_Features)\n",
        "X=scalerAndFit\n",
        "y=labelVector\n",
        "print(X.shape)\n",
        "print(len(labelVector))"
      ],
      "execution_count": 228,
      "outputs": [
        {
          "output_type": "stream",
          "name": "stdout",
          "text": [
            "(1270, 78)\n",
            "1270\n"
          ]
        }
      ]
    },
    {
      "cell_type": "markdown",
      "metadata": {
        "id": "rXn-ZoKWj28E"
      },
      "source": [
        "Training SVM\n"
      ]
    },
    {
      "cell_type": "code",
      "metadata": {
        "colab": {
          "base_uri": "https://localhost:8080/"
        },
        "id": "_BrVJ4Pdj6O_",
        "outputId": "b8882d14-8a27-407f-ac67-780039a37294"
      },
      "source": [
        "#Grid search SVC\n",
        "model = SVC(cache_size=2000)\n",
        "gamma_range = np.logspace(-10,10,5,base=2)\n",
        "C_range = np.logspace(-10,10,5,base=2)\n",
        "param_grid = dict(gamma=gamma_range, C = C_range, kernel=['rbf'],tol=[0.001])\n",
        "#param_grid = dict(gamma=[0.00909765625], C = [32], kernel=['rbf'],tol=[0.001])\n",
        "#model = SVC(C=32,gamma=0.00909765625,kernel='rbf',tol=0.001)\n",
        "\n",
        "kfold = StratifiedKFold(n_splits=10, shuffle=True, random_state=7)\n",
        "grid_search = GridSearchCV(model, param_grid, scoring='accuracy', n_jobs=-1, cv=kfold, verbose=1)\n",
        "grid_result = grid_search.fit(X, y)\n",
        "# summarize results\n",
        "print(\"Best: %f using %s\" % (grid_result.best_score_, grid_result.best_params_))\n",
        "means = grid_result.cv_results_['mean_test_score']\n",
        "stds = grid_result.cv_results_['std_test_score']\n",
        "params = grid_result.cv_results_['params']\n",
        "for mean, stdev, param in zip(means, stds, params):\n",
        "  print(\"%f (%f) with: %r\" % (mean, stdev, param))\n"
      ],
      "execution_count": 253,
      "outputs": [
        {
          "output_type": "stream",
          "name": "stdout",
          "text": [
            "Fitting 10 folds for each of 25 candidates, totalling 250 fits\n"
          ]
        },
        {
          "output_type": "stream",
          "name": "stderr",
          "text": [
            "[Parallel(n_jobs=-1)]: Using backend LokyBackend with 2 concurrent workers.\n",
            "[Parallel(n_jobs=-1)]: Done  46 tasks      | elapsed:    6.7s\n",
            "[Parallel(n_jobs=-1)]: Done 196 tasks      | elapsed:   28.0s\n",
            "[Parallel(n_jobs=-1)]: Done 250 out of 250 | elapsed:   39.0s finished\n"
          ]
        },
        {
          "output_type": "stream",
          "name": "stdout",
          "text": [
            "Best: 0.563780 using {'C': 1.0, 'gamma': 0.0009765625, 'kernel': 'rbf', 'tol': 0.001}\n",
            "0.545669 (0.003608) with: {'C': 0.0009765625, 'gamma': 0.0009765625, 'kernel': 'rbf', 'tol': 0.001}\n",
            "0.545669 (0.003608) with: {'C': 0.0009765625, 'gamma': 0.03125, 'kernel': 'rbf', 'tol': 0.001}\n",
            "0.545669 (0.003608) with: {'C': 0.0009765625, 'gamma': 1.0, 'kernel': 'rbf', 'tol': 0.001}\n",
            "0.545669 (0.003608) with: {'C': 0.0009765625, 'gamma': 32.0, 'kernel': 'rbf', 'tol': 0.001}\n",
            "0.545669 (0.003608) with: {'C': 0.0009765625, 'gamma': 1024.0, 'kernel': 'rbf', 'tol': 0.001}\n",
            "0.545669 (0.003608) with: {'C': 0.03125, 'gamma': 0.0009765625, 'kernel': 'rbf', 'tol': 0.001}\n",
            "0.545669 (0.003608) with: {'C': 0.03125, 'gamma': 0.03125, 'kernel': 'rbf', 'tol': 0.001}\n",
            "0.545669 (0.003608) with: {'C': 0.03125, 'gamma': 1.0, 'kernel': 'rbf', 'tol': 0.001}\n",
            "0.545669 (0.003608) with: {'C': 0.03125, 'gamma': 32.0, 'kernel': 'rbf', 'tol': 0.001}\n",
            "0.545669 (0.003608) with: {'C': 0.03125, 'gamma': 1024.0, 'kernel': 'rbf', 'tol': 0.001}\n",
            "0.563780 (0.024193) with: {'C': 1.0, 'gamma': 0.0009765625, 'kernel': 'rbf', 'tol': 0.001}\n",
            "0.541732 (0.044653) with: {'C': 1.0, 'gamma': 0.03125, 'kernel': 'rbf', 'tol': 0.001}\n",
            "0.545669 (0.003608) with: {'C': 1.0, 'gamma': 1.0, 'kernel': 'rbf', 'tol': 0.001}\n",
            "0.545669 (0.003608) with: {'C': 1.0, 'gamma': 32.0, 'kernel': 'rbf', 'tol': 0.001}\n",
            "0.545669 (0.003608) with: {'C': 1.0, 'gamma': 1024.0, 'kernel': 'rbf', 'tol': 0.001}\n",
            "0.551969 (0.038647) with: {'C': 32.0, 'gamma': 0.0009765625, 'kernel': 'rbf', 'tol': 0.001}\n",
            "0.540945 (0.029261) with: {'C': 32.0, 'gamma': 0.03125, 'kernel': 'rbf', 'tol': 0.001}\n",
            "0.545669 (0.003608) with: {'C': 32.0, 'gamma': 1.0, 'kernel': 'rbf', 'tol': 0.001}\n",
            "0.545669 (0.003608) with: {'C': 32.0, 'gamma': 32.0, 'kernel': 'rbf', 'tol': 0.001}\n",
            "0.545669 (0.003608) with: {'C': 32.0, 'gamma': 1024.0, 'kernel': 'rbf', 'tol': 0.001}\n",
            "0.525197 (0.033968) with: {'C': 1024.0, 'gamma': 0.0009765625, 'kernel': 'rbf', 'tol': 0.001}\n",
            "0.542520 (0.031780) with: {'C': 1024.0, 'gamma': 0.03125, 'kernel': 'rbf', 'tol': 0.001}\n",
            "0.545669 (0.003608) with: {'C': 1024.0, 'gamma': 1.0, 'kernel': 'rbf', 'tol': 0.001}\n",
            "0.545669 (0.003608) with: {'C': 1024.0, 'gamma': 32.0, 'kernel': 'rbf', 'tol': 0.001}\n",
            "0.545669 (0.003608) with: {'C': 1024.0, 'gamma': 1024.0, 'kernel': 'rbf', 'tol': 0.001}\n"
          ]
        }
      ]
    },
    {
      "cell_type": "markdown",
      "metadata": {
        "id": "9ERfLQRXkqgS"
      },
      "source": [
        "10-fold CROSS-validation manually\n"
      ]
    },
    {
      "cell_type": "code",
      "metadata": {
        "id": "3nakd_PvkkuV"
      },
      "source": [
        "#X = xn\n",
        "#y = np.array(labelVector_int)\n",
        "X.shape\n",
        "conf_matrix_list_of_arrays = []\n",
        "X_test=np.zeros((127,78))\n",
        "X_train=np.zeros((1143,78))\n",
        "Y_test=[0]*127\n",
        "Y_train=[0]*1143\n",
        "for i in range(0,9):\n",
        "  X_test[:][:]=X[i*127:127*(i+1)][:]\n",
        "  Y_test[:]=y[i*127:127*(i+1)]\n",
        "  #print(X_test[0][0])\n",
        "  if i==0:\n",
        "    X_train[:][:]=X[127:][:]\n",
        "    Y_train[:]=y[127:]\n",
        "    #print(X_train.shape)\n",
        "  elif i>0 or i<9:\n",
        "    X_train=np.vstack((X[0:127*(i)][:],X[127*(i+1):][:]))\n",
        "    #Y_train=np.vstack((y[0:127*(i)],y[127*(i+1):]))\n",
        "    Y_train[:]=np.append(y[0:127*(i)],y[127*(i+1):])\n",
        "    #print(X_train.shape)\n",
        "  else:\n",
        "    X_train[:][:]=X[127*i][:]\n",
        "    Y_train[:][:]=y[127*i][:]\n",
        "  clf_svm = SVC(C=1.0,gamma=0.0009765625,kernel='rbf',tol=0.001)\n",
        "  clf_svm.fit(X_train,Y_train)\n",
        "  conf_matrix = confusion_matrix(Y_test, clf_svm.predict(X_test))\n",
        "  conf_matrix_list_of_arrays.append(conf_matrix)\n"
      ],
      "execution_count": 255,
      "outputs": []
    },
    {
      "cell_type": "code",
      "metadata": {
        "colab": {
          "base_uri": "https://localhost:8080/"
        },
        "id": "FvZPMIWslgH3",
        "outputId": "56403875-788f-4b95-c078-e4e5052bb5ba"
      },
      "source": [
        "print(conf_matrix_list_of_arrays)\n",
        "#for i in range(len(conf_matrix_list_of_arrays)):\n"
      ],
      "execution_count": 256,
      "outputs": [
        {
          "output_type": "stream",
          "name": "stdout",
          "text": [
            "[array([[68,  8],\n",
            "       [41, 10]]), array([[70,  4],\n",
            "       [47,  6]]), array([[63,  7],\n",
            "       [46, 11]]), array([[53,  5],\n",
            "       [59, 10]]), array([[60, 15],\n",
            "       [42, 10]]), array([[61,  8],\n",
            "       [48, 10]]), array([[60, 11],\n",
            "       [47,  9]]), array([[66,  5],\n",
            "       [43, 13]]), array([[62,  5],\n",
            "       [48, 12]])]\n"
          ]
        }
      ]
    },
    {
      "cell_type": "code",
      "metadata": {
        "id": "d8JI-7Ikl4x1"
      },
      "source": [
        "y_pred_svm = cross_val_predict(clf_svm ,X,y,cv=5)"
      ],
      "execution_count": 257,
      "outputs": []
    },
    {
      "cell_type": "code",
      "metadata": {
        "colab": {
          "base_uri": "https://localhost:8080/"
        },
        "id": "U0qZOoIQl_S8",
        "outputId": "a3d67242-c289-472b-ab86-d483821f8c2f"
      },
      "source": [
        "print(classification_report(y,y_pred_svm))"
      ],
      "execution_count": 258,
      "outputs": [
        {
          "output_type": "stream",
          "name": "stdout",
          "text": [
            "              precision    recall  f1-score   support\n",
            "\n",
            "           0       0.56      0.89      0.69       693\n",
            "           1       0.57      0.17      0.26       577\n",
            "\n",
            "    accuracy                           0.56      1270\n",
            "   macro avg       0.56      0.53      0.48      1270\n",
            "weighted avg       0.56      0.56      0.50      1270\n",
            "\n"
          ]
        }
      ]
    },
    {
      "cell_type": "code",
      "metadata": {
        "colab": {
          "base_uri": "https://localhost:8080/",
          "height": 297
        },
        "id": "rMlppx08mGqc",
        "outputId": "93eb500b-be0d-4bac-f390-12be3a2e25d6"
      },
      "source": [
        "cm_svm = confusion_matrix(y,y_pred_svm)\n",
        "display_labels=['healthy','COVID-19']\n",
        "ConfusionMatrixDisplay(cm_svm,display_labels=display_labels).plot(values_format='.0f')"
      ],
      "execution_count": 259,
      "outputs": [
        {
          "output_type": "execute_result",
          "data": {
            "text/plain": [
              "<sklearn.metrics._plot.confusion_matrix.ConfusionMatrixDisplay at 0x7fb0ad595550>"
            ]
          },
          "metadata": {},
          "execution_count": 259
        },
        {
          "output_type": "display_data",
          "data": {
            "image/png": "[encoded data removed]",
            "text/plain": [
              "<Figure size 432x288 with 2 Axes>"
            ]
          },
          "metadata": {
            "needs_background": "light"
          }
        }
      ]
    },
    {
      "cell_type": "markdown",
      "metadata": {
        "id": "MohtZBXxnC48"
      },
      "source": [
        "XGBoost Classifier\n",
        "\n"
      ]
    },
    {
      "cell_type": "code",
      "metadata": {
        "id": "XN9QSKjBnQ-D"
      },
      "source": [
        "from xgboost import XGBClassifier"
      ],
      "execution_count": 261,
      "outputs": []
    },
    {
      "cell_type": "code",
      "metadata": {
        "colab": {
          "base_uri": "https://localhost:8080/"
        },
        "id": "BmpTVNSMnIKR",
        "outputId": "44e3fe44-6189-4843-f421-7634a6626837"
      },
      "source": [
        "# grid search\n",
        "model = XGBClassifier()\n",
        "n_estimators = [200,600,800,1000]\n",
        "max_depth = [2, 4, 6,8]\n",
        "learning_rate = [0.01]\n",
        "gamma = [0]\n",
        "reg_lambda = [1]\n",
        "alpha = [0]\n",
        "print(max_depth)\n",
        "param_grid = dict(max_depth=max_depth, n_estimators=n_estimators,learning_rate=learning_rate,gamma=gamma,reg_lambda=reg_lambda,alpha=alpha)\n",
        "kfold = StratifiedKFold(n_splits=10, shuffle=True, random_state=7)\n",
        "grid_search = GridSearchCV(model, param_grid, scoring=\"f1\", n_jobs=-1, cv=kfold, verbose=1)\n",
        "grid_result = grid_search.fit(X, y)\n",
        "# summarize results\n",
        "print(\"Best: %f using %s\" % (grid_result.best_score_, grid_result.best_params_))\n",
        "means = grid_result.cv_results_['mean_test_score']\n",
        "stds = grid_result.cv_results_['std_test_score']\n",
        "params = grid_result.cv_results_['params']\n",
        "for mean, stdev, param in zip(means, stds, params):\n",
        "\tprint(\"%f (%f) with: %r\" % (mean, stdev, param))\n"
      ],
      "execution_count": 262,
      "outputs": [
        {
          "output_type": "stream",
          "name": "stdout",
          "text": [
            "[2, 4, 6, 8]\n",
            "Fitting 10 folds for each of 16 candidates, totalling 160 fits\n"
          ]
        },
        {
          "output_type": "stream",
          "name": "stderr",
          "text": [
            "[Parallel(n_jobs=-1)]: Using backend LokyBackend with 2 concurrent workers.\n",
            "[Parallel(n_jobs=-1)]: Done  46 tasks      | elapsed:  1.6min\n",
            "[Parallel(n_jobs=-1)]: Done 160 out of 160 | elapsed: 13.8min finished\n"
          ]
        },
        {
          "output_type": "stream",
          "name": "stdout",
          "text": [
            "Best: 0.473253 using {'alpha': 0, 'gamma': 0, 'learning_rate': 0.01, 'max_depth': 8, 'n_estimators': 1000, 'reg_lambda': 1}\n",
            "0.397500 (0.038331) with: {'alpha': 0, 'gamma': 0, 'learning_rate': 0.01, 'max_depth': 2, 'n_estimators': 200, 'reg_lambda': 1}\n",
            "0.422311 (0.049212) with: {'alpha': 0, 'gamma': 0, 'learning_rate': 0.01, 'max_depth': 2, 'n_estimators': 600, 'reg_lambda': 1}\n",
            "0.436599 (0.053019) with: {'alpha': 0, 'gamma': 0, 'learning_rate': 0.01, 'max_depth': 2, 'n_estimators': 800, 'reg_lambda': 1}\n",
            "0.434718 (0.054244) with: {'alpha': 0, 'gamma': 0, 'learning_rate': 0.01, 'max_depth': 2, 'n_estimators': 1000, 'reg_lambda': 1}\n",
            "0.420326 (0.062397) with: {'alpha': 0, 'gamma': 0, 'learning_rate': 0.01, 'max_depth': 4, 'n_estimators': 200, 'reg_lambda': 1}\n",
            "0.444642 (0.042817) with: {'alpha': 0, 'gamma': 0, 'learning_rate': 0.01, 'max_depth': 4, 'n_estimators': 600, 'reg_lambda': 1}\n",
            "0.441789 (0.045459) with: {'alpha': 0, 'gamma': 0, 'learning_rate': 0.01, 'max_depth': 4, 'n_estimators': 800, 'reg_lambda': 1}\n",
            "0.448524 (0.045320) with: {'alpha': 0, 'gamma': 0, 'learning_rate': 0.01, 'max_depth': 4, 'n_estimators': 1000, 'reg_lambda': 1}\n",
            "0.436464 (0.058344) with: {'alpha': 0, 'gamma': 0, 'learning_rate': 0.01, 'max_depth': 6, 'n_estimators': 200, 'reg_lambda': 1}\n",
            "0.461828 (0.043521) with: {'alpha': 0, 'gamma': 0, 'learning_rate': 0.01, 'max_depth': 6, 'n_estimators': 600, 'reg_lambda': 1}\n",
            "0.465109 (0.036583) with: {'alpha': 0, 'gamma': 0, 'learning_rate': 0.01, 'max_depth': 6, 'n_estimators': 800, 'reg_lambda': 1}\n",
            "0.462609 (0.034994) with: {'alpha': 0, 'gamma': 0, 'learning_rate': 0.01, 'max_depth': 6, 'n_estimators': 1000, 'reg_lambda': 1}\n",
            "0.436380 (0.054985) with: {'alpha': 0, 'gamma': 0, 'learning_rate': 0.01, 'max_depth': 8, 'n_estimators': 200, 'reg_lambda': 1}\n",
            "0.450329 (0.045711) with: {'alpha': 0, 'gamma': 0, 'learning_rate': 0.01, 'max_depth': 8, 'n_estimators': 600, 'reg_lambda': 1}\n",
            "0.463413 (0.049637) with: {'alpha': 0, 'gamma': 0, 'learning_rate': 0.01, 'max_depth': 8, 'n_estimators': 800, 'reg_lambda': 1}\n",
            "0.473253 (0.040128) with: {'alpha': 0, 'gamma': 0, 'learning_rate': 0.01, 'max_depth': 8, 'n_estimators': 1000, 'reg_lambda': 1}\n"
          ]
        }
      ]
    },
    {
      "cell_type": "code",
      "metadata": {
        "id": "AOLQKzI5nYzM"
      },
      "source": [
        "conf_matrix_list_of_arrays = []\n",
        "X_test=np.zeros((127,78))\n",
        "X_train=np.zeros((1143,78))\n",
        "Y_test=[0]*127\n",
        "Y_train=[0]*1143\n",
        "for i in range(0,9):\n",
        "  X_test[:][:]=X[i*127:127*(i+1)][:]\n",
        "  Y_test[:]=y[i*127:127*(i+1)]\n",
        "  #print(X_test[0][0])\n",
        "  if i==0:\n",
        "    X_train[:][:]=X[127:][:]\n",
        "    Y_train[:]=y[127:]\n",
        "    #print(X_train.shape)\n",
        "  elif i>0 or i<9:\n",
        "    X_train=np.vstack((X[0:127*(i)][:],X[127*(i+1):][:]))\n",
        "    #Y_train=np.vstack((y[0:127*(i)],y[127*(i+1):]))\n",
        "    Y_train[:]=np.append(y[0:127*(i)],y[127*(i+1):])\n",
        "    #print(X_train.shape)\n",
        "  else:\n",
        "    X_train[:][:]=X[127*i][:]\n",
        "    Y_train[:][:]=y[127*i][:]\n",
        "  xgbc = XGBClassifier(learning_rate=0.01,gamma=0,max_depth=8,n_estimators=1000)\n",
        "  rfe = RFE(estimator=DecisionTreeClassifier(), n_features_to_select=30)\n",
        "  rfe.fit(X_train, Y_train)\n",
        "  rfe.transform(X_train)\n",
        "  xgbc.fit(X_train,Y_train)\n",
        "  conf_matrix = confusion_matrix(Y_test, clf_svm.predict(X_test))\n",
        "  conf_matrix_list_of_arrays.append(conf_matrix)"
      ],
      "execution_count": 263,
      "outputs": []
    },
    {
      "cell_type": "code",
      "metadata": {
        "colab": {
          "base_uri": "https://localhost:8080/"
        },
        "id": "H2C3y-torkSO",
        "outputId": "53e42b15-253a-4162-9ca3-5dfff9879047"
      },
      "source": [
        "print(conf_matrix_list_of_arrays)"
      ],
      "execution_count": 264,
      "outputs": [
        {
          "output_type": "stream",
          "name": "stdout",
          "text": [
            "[array([[70,  6],\n",
            "       [39, 12]]), array([[70,  4],\n",
            "       [47,  6]]), array([[66,  4],\n",
            "       [47, 10]]), array([[51,  7],\n",
            "       [55, 14]]), array([[69,  6],\n",
            "       [43,  9]]), array([[64,  5],\n",
            "       [47, 11]]), array([[60, 11],\n",
            "       [46, 10]]), array([[66,  5],\n",
            "       [38, 18]]), array([[62,  5],\n",
            "       [48, 12]])]\n"
          ]
        }
      ]
    },
    {
      "cell_type": "code",
      "metadata": {
        "id": "HDjS0M37ruKt"
      },
      "source": [
        "y_pred_xgb = cross_val_predict(xgbc,X,y,cv=5)"
      ],
      "execution_count": 265,
      "outputs": []
    },
    {
      "cell_type": "code",
      "metadata": {
        "colab": {
          "base_uri": "https://localhost:8080/"
        },
        "id": "7y_WmAhyr-nv",
        "outputId": "77663f2c-effd-41b9-a483-3a56ba57c603"
      },
      "source": [
        "print(classification_report(y,y_pred_xgb))"
      ],
      "execution_count": 270,
      "outputs": [
        {
          "output_type": "stream",
          "name": "stdout",
          "text": [
            "              precision    recall  f1-score   support\n",
            "\n",
            "           0       0.58      0.65      0.61       693\n",
            "           1       0.51      0.45      0.48       577\n",
            "\n",
            "    accuracy                           0.55      1270\n",
            "   macro avg       0.55      0.55      0.54      1270\n",
            "weighted avg       0.55      0.55      0.55      1270\n",
            "\n"
          ]
        }
      ]
    },
    {
      "cell_type": "code",
      "metadata": {
        "colab": {
          "base_uri": "https://localhost:8080/",
          "height": 297
        },
        "id": "EsX4n0BKsAM7",
        "outputId": "75a8068d-66fc-4dbd-e04d-5bac3bdd8396"
      },
      "source": [
        "cm_xgb = confusion_matrix(y,y_pred_xgb)\n",
        "display_labels=['healthy','COVID-19']\n",
        "ConfusionMatrixDisplay(cm_xgb,display_labels=display_labels).plot(values_format='.0f')"
      ],
      "execution_count": 271,
      "outputs": [
        {
          "output_type": "execute_result",
          "data": {
            "text/plain": [
              "<sklearn.metrics._plot.confusion_matrix.ConfusionMatrixDisplay at 0x7fb0ad02fad0>"
            ]
          },
          "metadata": {},
          "execution_count": 271
        },
        {
          "output_type": "display_data",
          "data": {
            "image/png": "[encoded data removed]",
            "text/plain": [
              "<Figure size 432x288 with 2 Axes>"
            ]
          },
          "metadata": {
            "needs_background": "light"
          }
        }
      ]
    },
    {
      "cell_type": "markdown",
      "metadata": {
        "id": "YWKL5G7cwTVl"
      },
      "source": [
        "Fully-connected ANN"
      ]
    },
    {
      "cell_type": "code",
      "metadata": {
        "id": "EMi4nLPTy2Gx"
      },
      "source": [
        "from keras.models import Sequential\n",
        "from keras.layers import Dense, Conv1D, Flatten, Conv2D, MaxPooling1D,MaxPool2D,Dropout,Activation, MaxPooling2D\n",
        "from keras.wrappers.scikit_learn import KerasClassifier\n",
        "from keras.constraints import maxnorm\n",
        "from tensorflow import keras\n",
        "from tensorflow.keras import layers\n",
        "#import keras.optimizers.Adam"
      ],
      "execution_count": 290,
      "outputs": []
    },
    {
      "cell_type": "code",
      "metadata": {
        "id": "ElJFydC7wVa6"
      },
      "source": [
        "from keras.models import Sequential\n",
        "def create_model(optimizer='adam',n_neurons=32,dropout_rates=0.5):\n",
        "  base_model = Sequential()\n",
        "  base_model.add(Dense(n_neurons, activation='relu', input_shape=(78,))) #inputlayer and dense\n",
        "  base_model.add(Dropout(dropout_rates)) #dropout_1\n",
        "  base_model.add(Dense(n_neurons, activation='relu')) #dense_2\n",
        "  base_model.add(Dropout(dropout_rates)) #dropout_2\n",
        "  base_model.add(Dense(1, activation='sigmoid')) #output=dense\n",
        "  base_model._name = \"ANN_model\"\n",
        "  base_model.compile(optimizer='adam',loss='binary_crossentropy',metrics=['acc'])\n",
        "  return base_model\n",
        "optimizer=optimizer"
      ],
      "execution_count": 388,
      "outputs": []
    },
    {
      "cell_type": "code",
      "metadata": {
        "id": "k--k0dhkDNbG"
      },
      "source": [
        "base_model = KerasClassifier(build_fn=create_model, verbose=0)"
      ],
      "execution_count": 389,
      "outputs": []
    },
    {
      "cell_type": "code",
      "metadata": {
        "colab": {
          "base_uri": "https://localhost:8080/"
        },
        "id": "rLoWMXui0i_F",
        "outputId": "010cb73b-7612-4f75-af31-7ac06fb4d5d2"
      },
      "source": [
        "from sklearn.model_selection import GridSearchCV\n",
        "from keras.models import Sequential\n",
        "from keras.layers import Dense\n",
        "from keras.wrappers.scikit_learn import KerasClassifier\n",
        "from joblib import Parallel, delayed\n",
        "import dill as pickle\n",
        "from joblibspark import register_spark\n",
        "import os\n",
        "os.environ[\"DATABRICKS_HOST\"] = \"<YOUR DATABRICKS HOST>\"\n",
        "os.environ[\"DATABRICKS_TOKEN\"] = \"<YOUR DATABRICKS TOKEN>\"\n",
        "register_spark()\n",
        "Parallel(n_jobs=-1, backend=\"spark\")\n",
        "batch_size=[32,64,128]\n",
        "epochs=[10,50,100]\n",
        "optimizer=['SGD','Adam']\n",
        "neurons=[32,64]\n",
        "dropout_rates=[0,0.5]\n",
        "kfold = StratifiedKFold(n_splits=10, shuffle=True, random_state=7)\n",
        "\n",
        "param_grid=dict(optimizer=optimizer,batch_size=batch_size,epochs=epochs,n_neurons=neurons,dropout_rates=dropout_rates)\n",
        "grid=GridSearchCV(estimator=base_model,param_grid=param_grid, scoring='accuracy',cv=5, verbose=1)\n",
        "#grid = GridSearchCV(estimator=base_model, param_grid=param_grid, n_jobs=-1, cv=3)\n",
        "grid_result=grid.fit(X,y)\n",
        "#grid_search = GridSearchCV(model, param_grid, scoring='accuracy', n_jobs=-1, cv=kfold, verbose=1)\n",
        "#grid_result = grid_search.fit(X,y)\n",
        "# summarize results\n",
        "print(\"Best: %f using %s\" % (grid_result.best_score_, grid_result.best_params_))\n",
        "means = grid_result.cv_results_['mean_test_score']\n",
        "stds = grid_result.cv_results_['std_test_score']\n",
        "params = grid_result.cv_results_['params']\n",
        "for mean, stdev, param in zip(means, stds, params):\n",
        "  print(\"%f (%f) with: %r\" % (mean, stdev, param))"
      ],
      "execution_count": 390,
      "outputs": [
        {
          "output_type": "stream",
          "name": "stdout",
          "text": [
            "Fitting 5 folds for each of 72 candidates, totalling 360 fits\n"
          ]
        },
        {
          "output_type": "stream",
          "name": "stderr",
          "text": [
            "[Parallel(n_jobs=1)]: Using backend SequentialBackend with 1 concurrent workers.\n",
            "[Parallel(n_jobs=1)]: Done 360 out of 360 | elapsed: 14.2min finished\n"
          ]
        },
        {
          "output_type": "stream",
          "name": "stdout",
          "text": [
            "Best: 0.564567 using {'batch_size': 64, 'dropout_rates': 0, 'epochs': 10, 'n_neurons': 32, 'optimizer': 'Adam'}\n",
            "0.541732 (0.008839) with: {'batch_size': 32, 'dropout_rates': 0, 'epochs': 10, 'n_neurons': 32, 'optimizer': 'SGD'}\n",
            "0.525197 (0.032043) with: {'batch_size': 32, 'dropout_rates': 0, 'epochs': 10, 'n_neurons': 32, 'optimizer': 'Adam'}\n",
            "0.540945 (0.033462) with: {'batch_size': 32, 'dropout_rates': 0, 'epochs': 10, 'n_neurons': 64, 'optimizer': 'SGD'}\n",
            "0.550394 (0.028434) with: {'batch_size': 32, 'dropout_rates': 0, 'epochs': 10, 'n_neurons': 64, 'optimizer': 'Adam'}\n",
            "0.534646 (0.026748) with: {'batch_size': 32, 'dropout_rates': 0, 'epochs': 50, 'n_neurons': 32, 'optimizer': 'SGD'}\n",
            "0.533071 (0.030251) with: {'batch_size': 32, 'dropout_rates': 0, 'epochs': 50, 'n_neurons': 32, 'optimizer': 'Adam'}\n",
            "0.525197 (0.028673) with: {'batch_size': 32, 'dropout_rates': 0, 'epochs': 50, 'n_neurons': 64, 'optimizer': 'SGD'}\n",
            "0.522835 (0.028974) with: {'batch_size': 32, 'dropout_rates': 0, 'epochs': 50, 'n_neurons': 64, 'optimizer': 'Adam'}\n",
            "0.527559 (0.010854) with: {'batch_size': 32, 'dropout_rates': 0, 'epochs': 100, 'n_neurons': 32, 'optimizer': 'SGD'}\n",
            "0.540157 (0.009771) with: {'batch_size': 32, 'dropout_rates': 0, 'epochs': 100, 'n_neurons': 32, 'optimizer': 'Adam'}\n",
            "0.533071 (0.023037) with: {'batch_size': 32, 'dropout_rates': 0, 'epochs': 100, 'n_neurons': 64, 'optimizer': 'SGD'}\n",
            "0.541732 (0.022215) with: {'batch_size': 32, 'dropout_rates': 0, 'epochs': 100, 'n_neurons': 64, 'optimizer': 'Adam'}\n",
            "0.548031 (0.017852) with: {'batch_size': 32, 'dropout_rates': 0.5, 'epochs': 10, 'n_neurons': 32, 'optimizer': 'SGD'}\n",
            "0.547244 (0.029251) with: {'batch_size': 32, 'dropout_rates': 0.5, 'epochs': 10, 'n_neurons': 32, 'optimizer': 'Adam'}\n",
            "0.547244 (0.031000) with: {'batch_size': 32, 'dropout_rates': 0.5, 'epochs': 10, 'n_neurons': 64, 'optimizer': 'SGD'}\n",
            "0.529921 (0.008839) with: {'batch_size': 32, 'dropout_rates': 0.5, 'epochs': 10, 'n_neurons': 64, 'optimizer': 'Adam'}\n",
            "0.546457 (0.052550) with: {'batch_size': 32, 'dropout_rates': 0.5, 'epochs': 50, 'n_neurons': 32, 'optimizer': 'SGD'}\n",
            "0.534646 (0.024574) with: {'batch_size': 32, 'dropout_rates': 0.5, 'epochs': 50, 'n_neurons': 32, 'optimizer': 'Adam'}\n",
            "0.551181 (0.025393) with: {'batch_size': 32, 'dropout_rates': 0.5, 'epochs': 50, 'n_neurons': 64, 'optimizer': 'SGD'}\n",
            "0.522835 (0.009771) with: {'batch_size': 32, 'dropout_rates': 0.5, 'epochs': 50, 'n_neurons': 64, 'optimizer': 'Adam'}\n",
            "0.543307 (0.042330) with: {'batch_size': 32, 'dropout_rates': 0.5, 'epochs': 100, 'n_neurons': 32, 'optimizer': 'SGD'}\n",
            "0.537795 (0.024725) with: {'batch_size': 32, 'dropout_rates': 0.5, 'epochs': 100, 'n_neurons': 32, 'optimizer': 'Adam'}\n",
            "0.533858 (0.016252) with: {'batch_size': 32, 'dropout_rates': 0.5, 'epochs': 100, 'n_neurons': 64, 'optimizer': 'SGD'}\n",
            "0.533071 (0.014433) with: {'batch_size': 32, 'dropout_rates': 0.5, 'epochs': 100, 'n_neurons': 64, 'optimizer': 'Adam'}\n",
            "0.553543 (0.016252) with: {'batch_size': 64, 'dropout_rates': 0, 'epochs': 10, 'n_neurons': 32, 'optimizer': 'SGD'}\n",
            "0.564567 (0.033276) with: {'batch_size': 64, 'dropout_rates': 0, 'epochs': 10, 'n_neurons': 32, 'optimizer': 'Adam'}\n",
            "0.531496 (0.015146) with: {'batch_size': 64, 'dropout_rates': 0, 'epochs': 10, 'n_neurons': 64, 'optimizer': 'SGD'}\n",
            "0.560630 (0.032523) with: {'batch_size': 64, 'dropout_rates': 0, 'epochs': 10, 'n_neurons': 64, 'optimizer': 'Adam'}\n",
            "0.529921 (0.042374) with: {'batch_size': 64, 'dropout_rates': 0, 'epochs': 50, 'n_neurons': 32, 'optimizer': 'SGD'}\n",
            "0.539370 (0.014304) with: {'batch_size': 64, 'dropout_rates': 0, 'epochs': 50, 'n_neurons': 32, 'optimizer': 'Adam'}\n",
            "0.515748 (0.035825) with: {'batch_size': 64, 'dropout_rates': 0, 'epochs': 50, 'n_neurons': 64, 'optimizer': 'SGD'}\n",
            "0.536220 (0.015228) with: {'batch_size': 64, 'dropout_rates': 0, 'epochs': 50, 'n_neurons': 64, 'optimizer': 'Adam'}\n",
            "0.513386 (0.016998) with: {'batch_size': 64, 'dropout_rates': 0, 'epochs': 100, 'n_neurons': 32, 'optimizer': 'SGD'}\n",
            "0.511024 (0.028105) with: {'batch_size': 64, 'dropout_rates': 0, 'epochs': 100, 'n_neurons': 32, 'optimizer': 'Adam'}\n",
            "0.516535 (0.033721) with: {'batch_size': 64, 'dropout_rates': 0, 'epochs': 100, 'n_neurons': 64, 'optimizer': 'SGD'}\n",
            "0.542520 (0.022465) with: {'batch_size': 64, 'dropout_rates': 0, 'epochs': 100, 'n_neurons': 64, 'optimizer': 'Adam'}\n",
            "0.533858 (0.030455) with: {'batch_size': 64, 'dropout_rates': 0.5, 'epochs': 10, 'n_neurons': 32, 'optimizer': 'SGD'}\n",
            "0.547244 (0.028061) with: {'batch_size': 64, 'dropout_rates': 0.5, 'epochs': 10, 'n_neurons': 32, 'optimizer': 'Adam'}\n",
            "0.557480 (0.019543) with: {'batch_size': 64, 'dropout_rates': 0.5, 'epochs': 10, 'n_neurons': 64, 'optimizer': 'SGD'}\n",
            "0.545669 (0.018898) with: {'batch_size': 64, 'dropout_rates': 0.5, 'epochs': 10, 'n_neurons': 64, 'optimizer': 'Adam'}\n",
            "0.543307 (0.014085) with: {'batch_size': 64, 'dropout_rates': 0.5, 'epochs': 50, 'n_neurons': 32, 'optimizer': 'SGD'}\n",
            "0.527559 (0.015944) with: {'batch_size': 64, 'dropout_rates': 0.5, 'epochs': 50, 'n_neurons': 32, 'optimizer': 'Adam'}\n",
            "0.547244 (0.031199) with: {'batch_size': 64, 'dropout_rates': 0.5, 'epochs': 50, 'n_neurons': 64, 'optimizer': 'SGD'}\n",
            "0.541732 (0.019061) with: {'batch_size': 64, 'dropout_rates': 0.5, 'epochs': 50, 'n_neurons': 64, 'optimizer': 'Adam'}\n",
            "0.544882 (0.018733) with: {'batch_size': 64, 'dropout_rates': 0.5, 'epochs': 100, 'n_neurons': 32, 'optimizer': 'SGD'}\n",
            "0.554331 (0.035424) with: {'batch_size': 64, 'dropout_rates': 0.5, 'epochs': 100, 'n_neurons': 32, 'optimizer': 'Adam'}\n",
            "0.522835 (0.014604) with: {'batch_size': 64, 'dropout_rates': 0.5, 'epochs': 100, 'n_neurons': 64, 'optimizer': 'SGD'}\n",
            "0.526772 (0.006773) with: {'batch_size': 64, 'dropout_rates': 0.5, 'epochs': 100, 'n_neurons': 64, 'optimizer': 'Adam'}\n",
            "0.536220 (0.029399) with: {'batch_size': 128, 'dropout_rates': 0, 'epochs': 10, 'n_neurons': 32, 'optimizer': 'SGD'}\n",
            "0.544882 (0.028995) with: {'batch_size': 128, 'dropout_rates': 0, 'epochs': 10, 'n_neurons': 32, 'optimizer': 'Adam'}\n",
            "0.544094 (0.030940) with: {'batch_size': 128, 'dropout_rates': 0, 'epochs': 10, 'n_neurons': 64, 'optimizer': 'SGD'}\n",
            "0.533071 (0.028456) with: {'batch_size': 128, 'dropout_rates': 0, 'epochs': 10, 'n_neurons': 64, 'optimizer': 'Adam'}\n",
            "0.536220 (0.012045) with: {'batch_size': 128, 'dropout_rates': 0, 'epochs': 50, 'n_neurons': 32, 'optimizer': 'SGD'}\n",
            "0.547244 (0.023225) with: {'batch_size': 128, 'dropout_rates': 0, 'epochs': 50, 'n_neurons': 32, 'optimizer': 'Adam'}\n",
            "0.523622 (0.021850) with: {'batch_size': 128, 'dropout_rates': 0, 'epochs': 50, 'n_neurons': 64, 'optimizer': 'SGD'}\n",
            "0.542520 (0.012794) with: {'batch_size': 128, 'dropout_rates': 0, 'epochs': 50, 'n_neurons': 64, 'optimizer': 'Adam'}\n",
            "0.559055 (0.033867) with: {'batch_size': 128, 'dropout_rates': 0, 'epochs': 100, 'n_neurons': 32, 'optimizer': 'SGD'}\n",
            "0.536220 (0.030435) with: {'batch_size': 128, 'dropout_rates': 0, 'epochs': 100, 'n_neurons': 32, 'optimizer': 'Adam'}\n",
            "0.540157 (0.026516) with: {'batch_size': 128, 'dropout_rates': 0, 'epochs': 100, 'n_neurons': 64, 'optimizer': 'SGD'}\n",
            "0.513386 (0.037150) with: {'batch_size': 128, 'dropout_rates': 0, 'epochs': 100, 'n_neurons': 64, 'optimizer': 'Adam'}\n",
            "0.535433 (0.017070) with: {'batch_size': 128, 'dropout_rates': 0.5, 'epochs': 10, 'n_neurons': 32, 'optimizer': 'SGD'}\n",
            "0.533071 (0.017886) with: {'batch_size': 128, 'dropout_rates': 0.5, 'epochs': 10, 'n_neurons': 32, 'optimizer': 'Adam'}\n",
            "0.547244 (0.019447) with: {'batch_size': 128, 'dropout_rates': 0.5, 'epochs': 10, 'n_neurons': 64, 'optimizer': 'SGD'}\n",
            "0.540945 (0.029314) with: {'batch_size': 128, 'dropout_rates': 0.5, 'epochs': 10, 'n_neurons': 64, 'optimizer': 'Adam'}\n",
            "0.544094 (0.019191) with: {'batch_size': 128, 'dropout_rates': 0.5, 'epochs': 50, 'n_neurons': 32, 'optimizer': 'SGD'}\n",
            "0.538583 (0.010681) with: {'batch_size': 128, 'dropout_rates': 0.5, 'epochs': 50, 'n_neurons': 32, 'optimizer': 'Adam'}\n",
            "0.551969 (0.043656) with: {'batch_size': 128, 'dropout_rates': 0.5, 'epochs': 50, 'n_neurons': 64, 'optimizer': 'SGD'}\n",
            "0.537008 (0.031160) with: {'batch_size': 128, 'dropout_rates': 0.5, 'epochs': 50, 'n_neurons': 64, 'optimizer': 'Adam'}\n",
            "0.548819 (0.022630) with: {'batch_size': 128, 'dropout_rates': 0.5, 'epochs': 100, 'n_neurons': 32, 'optimizer': 'SGD'}\n",
            "0.531496 (0.028716) with: {'batch_size': 128, 'dropout_rates': 0.5, 'epochs': 100, 'n_neurons': 32, 'optimizer': 'Adam'}\n",
            "0.531496 (0.010266) with: {'batch_size': 128, 'dropout_rates': 0.5, 'epochs': 100, 'n_neurons': 64, 'optimizer': 'SGD'}\n",
            "0.533858 (0.020167) with: {'batch_size': 128, 'dropout_rates': 0.5, 'epochs': 100, 'n_neurons': 64, 'optimizer': 'Adam'}\n"
          ]
        }
      ]
    },
    {
      "cell_type": "code",
      "metadata": {
        "id": "qBPKE32WWked"
      },
      "source": [
        "# BEST RESULT AFTER RUNNING GRIDSEARCH: {'batch_size': 64, 'dropout_rates': 0, 'epochs': 10, 'n_neurons': 32, 'optimizer': 'Adam'}\n",
        "import tensorflow as tf\n",
        "es = tf.keras.callbacks.EarlyStopping(monitor='val_loss', mode='min', verbose=0, patience=25)\n",
        "conf_matrix_list_of_arrays = []\n",
        "X_test=np.zeros((127,78))\n",
        "X_train=np.zeros((1143,78))\n",
        "Y_test=[0]*127\n",
        "Y_train=[0]*1143\n",
        "for i in range(0,10):\n",
        "  X_test[:][:]=X[i*127:127*(i+1)][:]\n",
        "  Y_test[:]=y[i*127:127*(i+1)]\n",
        "  if i==0:\n",
        "    X_train[:][:]=X[127:][:]\n",
        "    Y_train[:]=y[127:]\n",
        "    #print(X_train.shape)\n",
        "  elif i>0 or i<9:\n",
        "    X_train=np.vstack((X[0:127*(i)][:],X[127*(i+1):][:]))\n",
        "    #Y_train=np.vstack((y[0:127*(i)],y[127*(i+1):]))\n",
        "    Y_train[:]=np.append(y[0:127*(i)],y[127*(i+1):])\n",
        "    #print(X_train.shape)\n",
        "  else:\n",
        "    X_train[:][:]=X[127*i][:]\n",
        "    Y_train[:][:]=y[127*i][:]\n",
        "  base_model = Sequential()\n",
        "  n_neurons=32\n",
        "  dropout_rates=0\n",
        "  base_model.add(Dense(n_neurons, activation='relu', input_shape=(78,))) #inputlayer and dense\n",
        "  base_model.add(Dropout(dropout_rates)) #dropout_1\n",
        "  base_model.add(Dense(n_neurons, activation='relu')) #dense_2\n",
        "  base_model.add(Dropout(dropout_rates)) #dropout_2\n",
        "  base_model.add(Dense(1, activation='sigmoid')) #output=dense\n",
        "  base_model._name = \"ANN_model\"\n",
        "  base_model.compile(optimizer='adam',loss='binary_crossentropy',metrics=['acc'])\n",
        "  #ANN = base_model(optimizer='adam',n_neurons=32,dropout_rates=0)\n",
        "  X_train=np.array(X_train)\n",
        "  Y_train=np.array(Y_train)\n",
        "  X_val=np.array(X_test)\n",
        "  Y_val=np.array(Y_test)\n",
        "  base_model.fit(X_train,Y_train,validation_data=(X_val,Y_val),batch_size=256,epochs=50)\n",
        "  #ANN.fit(X_train,Y_train)\n",
        "  Y_predict=base_model.predict(X_test)\n",
        "  Y_predict = (Y_predict > 0.5)\n",
        "  print(Y_predict)\n",
        "  conf_matrix = confusion_matrix(Y_test, Y_predict)\n",
        "  conf_matrix_list_of_arrays.append(conf_matrix)"
      ],
      "execution_count": null,
      "outputs": []
    },
    {
      "cell_type": "code",
      "metadata": {
        "colab": {
          "base_uri": "https://localhost:8080/"
        },
        "id": "z7s-5BzdpoGK",
        "outputId": "455a945b-afee-4e4d-b2d0-a5871c939931"
      },
      "source": [
        "print(conf_matrix_list_of_arrays)\n",
        "f=0\n",
        "for i in range(10):\n",
        "  f+=conf_matrix_list_of_arrays[i][0][0]\n",
        "print(f)"
      ],
      "execution_count": 430,
      "outputs": [
        {
          "output_type": "stream",
          "name": "stdout",
          "text": [
            "[array([[45, 31],\n",
            "       [28, 23]]), array([[41, 33],\n",
            "       [36, 17]]), array([[48, 22],\n",
            "       [35, 22]]), array([[27, 31],\n",
            "       [34, 35]]), array([[47, 28],\n",
            "       [29, 23]]), array([[45, 24],\n",
            "       [37, 21]]), array([[44, 27],\n",
            "       [39, 17]]), array([[47, 24],\n",
            "       [34, 22]]), array([[44, 23],\n",
            "       [35, 25]]), array([[41, 21],\n",
            "       [43, 22]])]\n",
            "429\n"
          ]
        }
      ]
    },
    {
      "cell_type": "code",
      "metadata": {
        "colab": {
          "base_uri": "https://localhost:8080/",
          "height": 450
        },
        "id": "On-dQ_Pdpt_l",
        "outputId": "0cb4ddc7-99eb-4171-dec8-f2b2ea02c4ea"
      },
      "source": [
        "#y_pred_ANN =cross_val_score\n",
        "#y_pred_ANN = (y_pred_ANN > 0.5)\n",
        "#print(classification_report(y,y_pred_ANN))\n",
        "#cm_ANN = confusion_matrix(y,y_pred_ANN)\n",
        "#display_labels=['healthy','COVID-19']\n",
        "cross_val_predict(estimator=base_model,X=X,cv=5)\n",
        "#ConfusionMatrixDisplay(cm_ANN,display_labels=display_labels).plot(values_format='.0f')"
      ],
      "execution_count": 434,
      "outputs": [
        {
          "output_type": "error",
          "ename": "TypeError",
          "evalue": "ignored",
          "traceback": [
            "\u001b[0;31m---------------------------------------------------------------------------\u001b[0m",
            "\u001b[0;31mEmpty\u001b[0m                                     Traceback (most recent call last)",
            "\u001b[0;32m/usr/local/lib/python3.7/dist-packages/joblib/parallel.py\u001b[0m in \u001b[0;36mdispatch_one_batch\u001b[0;34m(self, iterator)\u001b[0m\n\u001b[1;32m    819\u001b[0m             \u001b[0;32mtry\u001b[0m\u001b[0;34m:\u001b[0m\u001b[0;34m\u001b[0m\u001b[0;34m\u001b[0m\u001b[0m\n\u001b[0;32m--> 820\u001b[0;31m                 \u001b[0mtasks\u001b[0m \u001b[0;34m=\u001b[0m \u001b[0mself\u001b[0m\u001b[0;34m.\u001b[0m\u001b[0m_ready_batches\u001b[0m\u001b[0;34m.\u001b[0m\u001b[0mget\u001b[0m\u001b[0;34m(\u001b[0m\u001b[0mblock\u001b[0m\u001b[0;34m=\u001b[0m\u001b[0;32mFalse\u001b[0m\u001b[0;34m)\u001b[0m\u001b[0;34m\u001b[0m\u001b[0;34m\u001b[0m\u001b[0m\n\u001b[0m\u001b[1;32m    821\u001b[0m             \u001b[0;32mexcept\u001b[0m \u001b[0mqueue\u001b[0m\u001b[0;34m.\u001b[0m\u001b[0mEmpty\u001b[0m\u001b[0;34m:\u001b[0m\u001b[0;34m\u001b[0m\u001b[0;34m\u001b[0m\u001b[0m\n",
            "\u001b[0;32m/usr/lib/python3.7/queue.py\u001b[0m in \u001b[0;36mget\u001b[0;34m(self, block, timeout)\u001b[0m\n\u001b[1;32m    166\u001b[0m                 \u001b[0;32mif\u001b[0m \u001b[0;32mnot\u001b[0m \u001b[0mself\u001b[0m\u001b[0;34m.\u001b[0m\u001b[0m_qsize\u001b[0m\u001b[0;34m(\u001b[0m\u001b[0;34m)\u001b[0m\u001b[0;34m:\u001b[0m\u001b[0;34m\u001b[0m\u001b[0;34m\u001b[0m\u001b[0m\n\u001b[0;32m--> 167\u001b[0;31m                     \u001b[0;32mraise\u001b[0m \u001b[0mEmpty\u001b[0m\u001b[0;34m\u001b[0m\u001b[0;34m\u001b[0m\u001b[0m\n\u001b[0m\u001b[1;32m    168\u001b[0m             \u001b[0;32melif\u001b[0m \u001b[0mtimeout\u001b[0m \u001b[0;32mis\u001b[0m \u001b[0;32mNone\u001b[0m\u001b[0;34m:\u001b[0m\u001b[0;34m\u001b[0m\u001b[0;34m\u001b[0m\u001b[0m\n",
            "\u001b[0;31mEmpty\u001b[0m: ",
            "\nDuring handling of the above exception, another exception occurred:\n",
            "\u001b[0;31mTypeError\u001b[0m                                 Traceback (most recent call last)",
            "\u001b[0;32m<ipython-input-434-e1a9d83e18cd>\u001b[0m in \u001b[0;36m<module>\u001b[0;34m()\u001b[0m\n\u001b[1;32m      4\u001b[0m \u001b[0;31m#cm_ANN = confusion_matrix(y,y_pred_ANN)\u001b[0m\u001b[0;34m\u001b[0m\u001b[0;34m\u001b[0m\u001b[0;34m\u001b[0m\u001b[0m\n\u001b[1;32m      5\u001b[0m \u001b[0;31m#display_labels=['healthy','COVID-19']\u001b[0m\u001b[0;34m\u001b[0m\u001b[0;34m\u001b[0m\u001b[0;34m\u001b[0m\u001b[0m\n\u001b[0;32m----> 6\u001b[0;31m \u001b[0mcross_val_predict\u001b[0m\u001b[0;34m(\u001b[0m\u001b[0mestimator\u001b[0m\u001b[0;34m=\u001b[0m\u001b[0mbase_model\u001b[0m\u001b[0;34m,\u001b[0m\u001b[0mX\u001b[0m\u001b[0;34m=\u001b[0m\u001b[0mX\u001b[0m\u001b[0;34m,\u001b[0m\u001b[0mcv\u001b[0m\u001b[0;34m=\u001b[0m\u001b[0;36m5\u001b[0m\u001b[0;34m)\u001b[0m\u001b[0;34m\u001b[0m\u001b[0;34m\u001b[0m\u001b[0m\n\u001b[0m\u001b[1;32m      7\u001b[0m \u001b[0;31m#ConfusionMatrixDisplay(cm_ANN,display_labels=display_labels).plot(values_format='.0f')\u001b[0m\u001b[0;34m\u001b[0m\u001b[0;34m\u001b[0m\u001b[0;34m\u001b[0m\u001b[0m\n",
            "\u001b[0;32m/usr/local/lib/python3.7/dist-packages/sklearn/model_selection/_validation.py\u001b[0m in \u001b[0;36mcross_val_predict\u001b[0;34m(estimator, X, y, groups, cv, n_jobs, verbose, fit_params, pre_dispatch, method)\u001b[0m\n\u001b[1;32m    753\u001b[0m     prediction_blocks = parallel(delayed(_fit_and_predict)(\n\u001b[1;32m    754\u001b[0m         clone(estimator), X, y, train, test, verbose, fit_params, method)\n\u001b[0;32m--> 755\u001b[0;31m         for train, test in cv.split(X, y, groups))\n\u001b[0m\u001b[1;32m    756\u001b[0m \u001b[0;34m\u001b[0m\u001b[0m\n\u001b[1;32m    757\u001b[0m     \u001b[0;31m# Concatenate the predictions\u001b[0m\u001b[0;34m\u001b[0m\u001b[0;34m\u001b[0m\u001b[0;34m\u001b[0m\u001b[0m\n",
            "\u001b[0;32m/usr/local/lib/python3.7/dist-packages/joblib/parallel.py\u001b[0m in \u001b[0;36m__call__\u001b[0;34m(self, iterable)\u001b[0m\n\u001b[1;32m   1039\u001b[0m             \u001b[0;31m# remaining jobs.\u001b[0m\u001b[0;34m\u001b[0m\u001b[0;34m\u001b[0m\u001b[0;34m\u001b[0m\u001b[0m\n\u001b[1;32m   1040\u001b[0m             \u001b[0mself\u001b[0m\u001b[0;34m.\u001b[0m\u001b[0m_iterating\u001b[0m \u001b[0;34m=\u001b[0m \u001b[0;32mFalse\u001b[0m\u001b[0;34m\u001b[0m\u001b[0;34m\u001b[0m\u001b[0m\n\u001b[0;32m-> 1041\u001b[0;31m             \u001b[0;32mif\u001b[0m \u001b[0mself\u001b[0m\u001b[0;34m.\u001b[0m\u001b[0mdispatch_one_batch\u001b[0m\u001b[0;34m(\u001b[0m\u001b[0miterator\u001b[0m\u001b[0;34m)\u001b[0m\u001b[0;34m:\u001b[0m\u001b[0;34m\u001b[0m\u001b[0;34m\u001b[0m\u001b[0m\n\u001b[0m\u001b[1;32m   1042\u001b[0m                 \u001b[0mself\u001b[0m\u001b[0;34m.\u001b[0m\u001b[0m_iterating\u001b[0m \u001b[0;34m=\u001b[0m \u001b[0mself\u001b[0m\u001b[0;34m.\u001b[0m\u001b[0m_original_iterator\u001b[0m \u001b[0;32mis\u001b[0m \u001b[0;32mnot\u001b[0m \u001b[0;32mNone\u001b[0m\u001b[0;34m\u001b[0m\u001b[0;34m\u001b[0m\u001b[0m\n\u001b[1;32m   1043\u001b[0m \u001b[0;34m\u001b[0m\u001b[0m\n",
            "\u001b[0;32m/usr/local/lib/python3.7/dist-packages/joblib/parallel.py\u001b[0m in \u001b[0;36mdispatch_one_batch\u001b[0;34m(self, iterator)\u001b[0m\n\u001b[1;32m    829\u001b[0m                 \u001b[0mbig_batch_size\u001b[0m \u001b[0;34m=\u001b[0m \u001b[0mbatch_size\u001b[0m \u001b[0;34m*\u001b[0m \u001b[0mn_jobs\u001b[0m\u001b[0;34m\u001b[0m\u001b[0;34m\u001b[0m\u001b[0m\n\u001b[1;32m    830\u001b[0m \u001b[0;34m\u001b[0m\u001b[0m\n\u001b[0;32m--> 831\u001b[0;31m                 \u001b[0mislice\u001b[0m \u001b[0;34m=\u001b[0m \u001b[0mlist\u001b[0m\u001b[0;34m(\u001b[0m\u001b[0mitertools\u001b[0m\u001b[0;34m.\u001b[0m\u001b[0mislice\u001b[0m\u001b[0;34m(\u001b[0m\u001b[0miterator\u001b[0m\u001b[0;34m,\u001b[0m \u001b[0mbig_batch_size\u001b[0m\u001b[0;34m)\u001b[0m\u001b[0;34m)\u001b[0m\u001b[0;34m\u001b[0m\u001b[0;34m\u001b[0m\u001b[0m\n\u001b[0m\u001b[1;32m    832\u001b[0m                 \u001b[0;32mif\u001b[0m \u001b[0mlen\u001b[0m\u001b[0;34m(\u001b[0m\u001b[0mislice\u001b[0m\u001b[0;34m)\u001b[0m \u001b[0;34m==\u001b[0m \u001b[0;36m0\u001b[0m\u001b[0;34m:\u001b[0m\u001b[0;34m\u001b[0m\u001b[0;34m\u001b[0m\u001b[0m\n\u001b[1;32m    833\u001b[0m                     \u001b[0;32mreturn\u001b[0m \u001b[0;32mFalse\u001b[0m\u001b[0;34m\u001b[0m\u001b[0;34m\u001b[0m\u001b[0m\n",
            "\u001b[0;32m/usr/local/lib/python3.7/dist-packages/sklearn/model_selection/_validation.py\u001b[0m in \u001b[0;36m<genexpr>\u001b[0;34m(.0)\u001b[0m\n\u001b[1;32m    753\u001b[0m     prediction_blocks = parallel(delayed(_fit_and_predict)(\n\u001b[1;32m    754\u001b[0m         clone(estimator), X, y, train, test, verbose, fit_params, method)\n\u001b[0;32m--> 755\u001b[0;31m         for train, test in cv.split(X, y, groups))\n\u001b[0m\u001b[1;32m    756\u001b[0m \u001b[0;34m\u001b[0m\u001b[0m\n\u001b[1;32m    757\u001b[0m     \u001b[0;31m# Concatenate the predictions\u001b[0m\u001b[0;34m\u001b[0m\u001b[0;34m\u001b[0m\u001b[0;34m\u001b[0m\u001b[0m\n",
            "\u001b[0;32m/usr/local/lib/python3.7/dist-packages/sklearn/base.py\u001b[0m in \u001b[0;36mclone\u001b[0;34m(estimator, safe)\u001b[0m\n\u001b[1;32m     65\u001b[0m                             \u001b[0;34m\"it does not seem to be a scikit-learn estimator \"\u001b[0m\u001b[0;34m\u001b[0m\u001b[0;34m\u001b[0m\u001b[0m\n\u001b[1;32m     66\u001b[0m                             \u001b[0;34m\"as it does not implement a 'get_params' methods.\"\u001b[0m\u001b[0;34m\u001b[0m\u001b[0;34m\u001b[0m\u001b[0m\n\u001b[0;32m---> 67\u001b[0;31m                             % (repr(estimator), type(estimator)))\n\u001b[0m\u001b[1;32m     68\u001b[0m     \u001b[0mklass\u001b[0m \u001b[0;34m=\u001b[0m \u001b[0mestimator\u001b[0m\u001b[0;34m.\u001b[0m\u001b[0m__class__\u001b[0m\u001b[0;34m\u001b[0m\u001b[0;34m\u001b[0m\u001b[0m\n\u001b[1;32m     69\u001b[0m     \u001b[0mnew_object_params\u001b[0m \u001b[0;34m=\u001b[0m \u001b[0mestimator\u001b[0m\u001b[0;34m.\u001b[0m\u001b[0mget_params\u001b[0m\u001b[0;34m(\u001b[0m\u001b[0mdeep\u001b[0m\u001b[0;34m=\u001b[0m\u001b[0;32mFalse\u001b[0m\u001b[0;34m)\u001b[0m\u001b[0;34m\u001b[0m\u001b[0;34m\u001b[0m\u001b[0m\n",
            "\u001b[0;31mTypeError\u001b[0m: Cannot clone object '<keras.engine.sequential.Sequential object at 0x7fb045146410>' (type <class 'keras.engine.sequential.Sequential'>): it does not seem to be a scikit-learn estimator as it does not implement a 'get_params' methods."
          ]
        }
      ]
    }
  ]
}
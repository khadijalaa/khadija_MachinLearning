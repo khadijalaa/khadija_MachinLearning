{
  "nbformat": 4,
  "nbformat_minor": 0,
  "metadata": {
    "colab": {
      "name": "Masterpro_Time-varying_features_UNBALANCED.ipynb",
      "provenance": [],
      "collapsed_sections": []
    },
    "kernelspec": {
      "name": "python3",
      "display_name": "Python 3"
    },
    "language_info": {
      "name": "python"
    }
  },
  "cells": [
    {
      "cell_type": "code",
      "metadata": {
        "id": "Oix-yGt_IgKi"
      },
      "source": [
        "\n",
        "import scipy\n",
        "import sklearn\n",
        "#import matplotlib as plt\n",
        "import matplotlib.pyplot as plt\n",
        "import numpy as np\n",
        "import math as m\n",
        "import pandas as pd\n",
        "import os\n",
        "from python_speech_features import mfcc, delta, logfbank\n",
        "from sklearn.metrics import precision_recall_curve, f1_score, ConfusionMatrixDisplay\n",
        "from sklearn.metrics import mean_squared_error,confusion_matrix,classification_report\n",
        "import csv\n",
        "from scipy import signal, ndimage\n",
        "from scipy.io.wavfile import read\n",
        "from scipy.signal import periodogram\n",
        "from scipy.ndimage import median_filter\n",
        "from matplotlib import pyplot\n",
        "from numpy import trapz\n",
        "from sklearn.preprocessing import MinMaxScaler\n",
        "from sklearn.feature_selection import RFE\n",
        "from sklearn.ensemble import RandomForestClassifier\n",
        "from sklearn.model_selection import StratifiedKFold\n",
        "from sklearn.metrics import accuracy_score\n",
        "from sklearn.model_selection import train_test_split\n",
        "from sklearn.model_selection import GridSearchCV\n",
        "from sklearn import svm\n",
        "from sklearn.tree import  DecisionTreeClassifier\n",
        "from sklearn.metrics import mean_squared_error,confusion_matrix,classification_report\n",
        "from google.colab import drive ## If running on google colab\n",
        "from sklearn.feature_selection import RFE\n",
        "from sklearn.ensemble import RandomForestClassifier\n",
        "from sklearn.model_selection import StratifiedKFold\n",
        "from sklearn.metrics import accuracy_score\n",
        "from sklearn.model_selection import train_test_split\n",
        "from sklearn.model_selection import GridSearchCV\n",
        "from sklearn import svm\n",
        "from sklearn.tree import  DecisionTreeClassifier\n",
        "from sklearn.model_selection import cross_val_score, KFold\n",
        "from sklearn.model_selection import cross_val_predict\n",
        "from sklearn.svm import SVC,LinearSVC\n",
        "from scipy.signal import butter,filtfilt\n",
        "from scipy.signal import decimate\n",
        "from google.colab import drive ## If running on google colab\n",
        "import numpy as np\n"
      ],
      "execution_count": null,
      "outputs": []
    },
    {
      "cell_type": "code",
      "metadata": {
        "id": "qvWXFSOKItns",
        "colab": {
          "base_uri": "https://localhost:8080/"
        },
        "outputId": "99130ec5-25a1-4a57-c067-95ff38f3aa3d"
      },
      "source": [
        "pip install python_speech_features"
      ],
      "execution_count": null,
      "outputs": [
        {
          "output_type": "stream",
          "name": "stdout",
          "text": [
            "Collecting python_speech_features\n",
            "  Downloading python_speech_features-0.6.tar.gz (5.6 kB)\n",
            "Building wheels for collected packages: python-speech-features\n",
            "  Building wheel for python-speech-features (setup.py) ... \u001b[?25l\u001b[?25hdone\n",
            "  Created wheel for python-speech-features: filename=python_speech_features-0.6-py3-none-any.whl size=5888 sha256=4f4945f6dd00933e76ebb7e5e1989ab2aa33f887b5d3a68812ea38d086b6ac24\n",
            "  Stored in directory: /root/.cache/pip/wheels/b0/0e/94/28cd6afa3cd5998a63eef99fe31777acd7d758f59cf24839eb\n",
            "Successfully built python-speech-features\n",
            "Installing collected packages: python-speech-features\n",
            "Successfully installed python-speech-features-0.6\n"
          ]
        }
      ]
    },
    {
      "cell_type": "code",
      "metadata": {
        "id": "ezgY8FPRaESj"
      },
      "source": [
        "import csv\n",
        "ver='/content/drive/MyDrive/Colab Notebooks/ORGANIZE/created_csv/y_filenames.csv'\n",
        "with open(ver, 'rt') as f:\n",
        "    reader = csv.reader(f)\n",
        "    y_label = list(reader)"
      ],
      "execution_count": null,
      "outputs": []
    },
    {
      "cell_type": "code",
      "metadata": {
        "colab": {
          "base_uri": "https://localhost:8080/"
        },
        "id": "oOZkBksNamIW",
        "outputId": "cf035370-b613-4ac7-b210-44cffdd78e71"
      },
      "source": [
        "y_label=np.array(y_label)\n",
        "print(y_label.shape)\n",
        "#labelVector=y_label[:,0]\n",
        "print(y_label[:,0])\n",
        "labelVector=[]\n",
        "for i in range(8895):\n",
        "  labelVector.append(int(y_label[i][0]))\n"
      ],
      "execution_count": null,
      "outputs": [
        {
          "output_type": "stream",
          "name": "stdout",
          "text": [
            "(8895, 2)\n",
            "['0' '0' '0' ... '1' '1' '1']\n"
          ]
        }
      ]
    },
    {
      "cell_type": "code",
      "metadata": {
        "colab": {
          "base_uri": "https://localhost:8080/"
        },
        "id": "IyZ0XFwoYsjO",
        "outputId": "43e869b1-b3a2-4fcf-97f9-ad3dc0081df4"
      },
      "source": [
        "import numpy as gfg\n",
        "# retrieving data from file. #(8895, 100, 39)\n",
        "dir_save='/content/drive/MyDrive/Colab Notebooks/ORGANIZE/created_csv/'\n",
        "loaded_arr = gfg.loadtxt(dir_save+\"Features_smote.txt\")\n",
        "\n",
        "load_original_arr = loaded_arr.reshape(\n",
        "    loaded_arr.shape[0], loaded_arr.shape[1]  // 39, 39)\n",
        "  \n",
        "# check the shapes:\n",
        "#print(\"shape of arr: \", arr.shape)\n",
        "print(\"shape of load_original_arr: \", load_original_arr.shape)\n"
      ],
      "execution_count": null,
      "outputs": [
        {
          "output_type": "stream",
          "name": "stdout",
          "text": [
            "shape of load_original_arr:  (8895, 100, 39)\n"
          ]
        }
      ]
    },
    {
      "cell_type": "markdown",
      "metadata": {
        "id": "EP1vMOZAWLUA"
      },
      "source": [
        "PREPROCESSING"
      ]
    },
    {
      "cell_type": "code",
      "metadata": {
        "id": "WMHhSQONWBEg"
      },
      "source": [
        "from scipy.io import wavfile\n",
        "import scipy.signal as sps\n",
        "def preprocess_cough(x,fs, cutoff = 6000, normalize = True, filter_ = True, downsample = True):\n",
        "  \"\"\"\n",
        "  Normalize, lowpass filter, and downsample cough samples in a given data folder \n",
        "  \n",
        "  Inputs: x*: (float array) time series cough signal\n",
        "  fs*: (int) sampling frequency of the cough signal in Hz\n",
        "  cutoff: (int) cutoff frequency of lowpass filter\n",
        "  normalize: (bool) normailzation on or off\n",
        "  filter: (bool) filtering on or off\n",
        "  downsample: (bool) downsampling on or off\n",
        "  *: mandatory input\n",
        "  \n",
        "  Outputs: x: (float32 array) new preprocessed cough signal\n",
        "  fs: (int) new sampling frequency\n",
        "  \"\"\"\n",
        "  \n",
        "  fs_downsample = cutoff*2\n",
        "  \n",
        "  #Preprocess Data\n",
        "  if len(x.shape)>1:\n",
        "    x = np.mean(x,axis=1)                          # Convert to mono\n",
        "  if normalize:\n",
        "    x = x/(np.max(np.abs(x))+1e-17)                # Norm to range between -1 to 1\n",
        "  if filter_:\n",
        "    b, a = butter(4, fs_downsample/fs, btype='lowpass') # 4th order butter lowpass filter\n",
        "    x = filtfilt(b, a, x)\n",
        "  if downsample:\n",
        "    #x = scipy.signal.decimate(x, int(fs/fs_downsample)) # Downsample for anti-aliasing\n",
        "    #x, s = librosa.load(x, sr=20000) # Downsample 44.1kHz to 8kHz\n",
        "    number_of_samples = round(len(x) * float(20000) / 48000)\n",
        "    x = sps.resample(x, number_of_samples)\n",
        "  \n",
        "  fs_new = fs_downsample\n",
        "\n",
        "  return np.float32(x), fs_new"
      ],
      "execution_count": null,
      "outputs": []
    },
    {
      "cell_type": "code",
      "metadata": {
        "id": "aQoffY0ZWFhH"
      },
      "source": [
        "def segment_cough(x,fs, cough_padding=0.1,min_cough_len=0.2, th_l_multiplier = 0.1, th_h_multiplier = 2):\n",
        "    \"\"\"Preprocess the data by segmenting each file into individual coughs using a hysteresis comparator on the signal power\n",
        "    \n",
        "    Inputs:\n",
        "    *x (np.array): cough signal\n",
        "    *fs (float): sampling frequency in Hz\n",
        "    *cough_padding (float): number of seconds added to the beginning and end of each detected cough to make sure coughs are not cut short\n",
        "    *min_cough_length (float): length of the minimum possible segment that can be considered a cough\n",
        "    *th_l_multiplier (float): multiplier of the RMS energy used as a lower threshold of the hysteresis comparator\n",
        "    *th_h_multiplier (float): multiplier of the RMS energy used as a high threshold of the hysteresis comparator\n",
        "    \n",
        "    Outputs:\n",
        "    *coughSegments (np.array of np.arrays): a list of cough signal arrays corresponding to each cough\n",
        "    cough_mask (np.array): an array of booleans that are True at the indices where a cough is in progress\"\"\"\n",
        "                \n",
        "    cough_mask = np.array([False]*len(x))\n",
        "    \n",
        "\n",
        "    #Define hysteresis thresholds\n",
        "    rms = np.sqrt(np.mean(np.square(x)))\n",
        "    seg_th_l = th_l_multiplier * rms\n",
        "    seg_th_h =  th_h_multiplier*rms\n",
        "\n",
        "    #Segment coughs\n",
        "    coughSegments = []\n",
        "    padding = round(fs*cough_padding)\n",
        "    min_cough_samples = round(fs*min_cough_len)\n",
        "    cough_start = 0\n",
        "    cough_end = 0\n",
        "    cough_in_progress = False\n",
        "    tolerance = round(0.01*fs)\n",
        "    below_th_counter = 0\n",
        "    \n",
        "    for i, sample in enumerate(x**2):\n",
        "        if cough_in_progress:\n",
        "            if sample<seg_th_l:\n",
        "                below_th_counter += 1\n",
        "                if below_th_counter > tolerance:\n",
        "                    cough_end = i+padding if (i+padding < len(x)) else len(x)-1\n",
        "                    cough_in_progress = False\n",
        "                    if (cough_end+1-cough_start-2*padding>min_cough_samples):\n",
        "                        coughSegments.append(x[cough_start:cough_end+1])\n",
        "                        cough_mask[cough_start:cough_end+1] = True\n",
        "            elif i == (len(x)-1):\n",
        "                cough_end=i\n",
        "                cough_in_progress = False\n",
        "                if (cough_end+1-cough_start-2*padding>min_cough_samples):\n",
        "                    coughSegments.append(x[cough_start:cough_end+1])\n",
        "            else:\n",
        "                below_th_counter = 0\n",
        "        else:\n",
        "            if sample>seg_th_h:\n",
        "                cough_start = i-padding if (i-padding >=0) else 0\n",
        "                cough_in_progress = True\n",
        "    \n",
        "    return coughSegments, cough_mask"
      ],
      "execution_count": null,
      "outputs": []
    },
    {
      "cell_type": "code",
      "metadata": {
        "id": "adOC0yBxwtgz"
      },
      "source": [
        "ver='/content/drive/MyDrive/Colab Notebooks/ORGANIZE/public_dataset/metadata_compiled.csv'\n",
        "#metadata=metadata_pd.to_numpy()\n",
        "#print(metadata[0])\n",
        "with open(ver, 'rt') as f:\n",
        "  reader = csv.reader(f)\n",
        "  metadata = list(reader)"
      ],
      "execution_count": null,
      "outputs": []
    },
    {
      "cell_type": "code",
      "metadata": {
        "colab": {
          "base_uri": "https://localhost:8080/"
        },
        "id": "z2B5EXNnFg4w",
        "outputId": "fb98c527-da7e-4248-d7b7-69424c548a56"
      },
      "source": [
        "print(len(metadata))"
      ],
      "execution_count": null,
      "outputs": [
        {
          "output_type": "stream",
          "name": "stdout",
          "text": [
            "27551\n"
          ]
        }
      ]
    },
    {
      "cell_type": "code",
      "metadata": {
        "id": "7ceFTsoCEmUc"
      },
      "source": [
        "smote_data=[0]*51\n",
        "s=0\n",
        "smote_folder='/content/drive/MyDrive/Colab Notebooks/ORGANIZE/SMOTE/'\n",
        "for filename in os.listdir(smote_folder):\n",
        "  for line in metadata:\n",
        "    if filename[:36]==line[0]:\n",
        "      smote_data=np.vstack((smote_data,line))\n"
      ],
      "execution_count": null,
      "outputs": []
    },
    {
      "cell_type": "code",
      "metadata": {
        "id": "zH3vyn79HcvX",
        "colab": {
          "base_uri": "https://localhost:8080/"
        },
        "outputId": "d68c35c1-4732-408b-a7df-006fd1c718bb"
      },
      "source": [
        "\n",
        "smote_data=smote_data[1:][:]\n",
        "SMOTE_DATA=np.vstack((metadata[0],smote_data))"
      ],
      "execution_count": null,
      "outputs": [
        {
          "output_type": "stream",
          "name": "stdout",
          "text": [
            "51\n",
            "8895\n"
          ]
        }
      ]
    },
    {
      "cell_type": "markdown",
      "metadata": {
        "id": "qeDBreosVqDL"
      },
      "source": [
        "Feature Extraction"
      ]
    },
    {
      "cell_type": "code",
      "metadata": {
        "id": "cWAnB-csN2TS"
      },
      "source": [
        "#Both networks achieved the best results on the\n",
        "#feature set where features were extracted from 100 windows with a window\n",
        "#length 25 ms, for each recording.\n",
        "T=100\n",
        "from python_speech_features import mfcc\n",
        "import librosa\n",
        "import math\n",
        "#Set number of windows and window length\n",
        "winlen = 0.025\n",
        "num_windows = 100\n",
        "features_list=[]\n",
        "segment=[]\n",
        "all_segments=[]\n",
        "verified_data=SMOTE_DATA\n",
        "COVID=1\n",
        "HEALTHY=0\n",
        "labelVector=[]\n",
        "index_name=0 #verified_data[0].index('uuid')\n",
        "index_status=10 #verified_data[0].index('status')\n",
        "smote_folder='/content/drive/MyDrive/Colab Notebooks/ORGANIZE/SMOTE/'\n",
        "filenames=[]\n",
        "s=0\n",
        "for filename in os.listdir(smote_folder):\n",
        "  segment=[]\n",
        "  all_segments=[]\n",
        "  signal,sr=librosa.load(smote_folder+filename,sr =20000)\n",
        "  fs_pre=sr\n",
        "  signal_pre=signal\n",
        "  segment,mask=segment_cough(signal_pre,fs_pre,cough_padding=0.1,min_cough_len=0.1, th_l_multiplier = 0.1, th_h_multiplier = 2)\n",
        "  #f_down=sr\n",
        "  #if len(segment)==0:\n",
        "  #  print(filename)\n",
        "  if len(segment)>1:\n",
        "    for line in segment:\n",
        "      all_segments=np.append(all_segments,line) #all the segments in one row from each file, one segment=one cough \n",
        "  elif len(segment)==1:\n",
        "    all_segments=np.array(segment[0])\n",
        "  overlap=math.ceil(len(all_segments)/(num_windows))\n",
        "  mfccs=mfcc(all_segments,sr, numcep =13,winlen =winlen,winstep=overlap /sr)\n",
        "  deltas = delta(mfccs, 2)\n",
        "  delta_deltas = delta(deltas, 2)\n",
        "  concat_feat = np.concatenate((mfccs, deltas, delta_deltas), axis=1)\n",
        "  if len(concat_feat)>100:\n",
        "    concat_feat=concat_feat[:100]\n",
        "  elif len(concat_feat)<100:\n",
        "    missing_samples=100-len(concat_feat)\n",
        "    pad=np.zeros((missing_samples,39))\n",
        "    concat_feat=np.vstack((concat_feat,pad))\n",
        "  features_list.append(concat_feat)\n",
        "  filenames.append(filename)\n",
        "\n",
        "  "
      ],
      "execution_count": null,
      "outputs": []
    },
    {
      "cell_type": "code",
      "metadata": {
        "colab": {
          "base_uri": "https://localhost:8080/"
        },
        "id": "SfvMGiVvH-PV",
        "outputId": "2c727cc9-572e-4a62-8bdc-90b1203b14ad"
      },
      "source": [
        "co=0\n",
        "he=0\n",
        "filename_label=[]\n",
        "labelVector=[]\n",
        "for filename in filenames:\n",
        "  filename_label.append(filename)\n",
        "  #found_index = np.argmax(np.logical_and(smote_data[:,0]==[filename[:36]]))\n",
        "  #print(smote_data[:,0]==[filename[:36]])                  \n",
        "  #if smote_data[found_index][index_status]=='COVID-19':\n",
        "  #  print(c)\n",
        "  for i in range(0,len(smote_data)):\n",
        "    if smote_data[i][index_name]==filename[:36]:\n",
        "      if smote_data[i][index_status]=='COVID-19':\n",
        "        co+=1\n",
        "        #print(co)\n",
        "        labelVector.append(COVID)\n",
        "      elif smote_data[i][index_status]=='healthy':\n",
        "        he+=1\n",
        "        labelVector.append(HEALTHY)\n",
        "#      else:\n",
        "#        print(filename)\n",
        "print(co)\n",
        "print(he)"
      ],
      "execution_count": null,
      "outputs": [
        {
          "output_type": "stream",
          "name": "stdout",
          "text": [
            "695\n",
            "8200\n"
          ]
        }
      ]
    },
    {
      "cell_type": "code",
      "metadata": {
        "id": "owoOrLFLg3ZS"
      },
      "source": [
        "feature_matrix=[]\n",
        "features_list=np.array(features_list)\n",
        "print(features_list.shape)\n",
        "#Efor i in range(1390):\n",
        "# print(features_list[i].shape)\n",
        "#  feature_matrix.append(features_list[i])\n",
        "#\n",
        "Featuress=features_list\n",
        "#print(labelVector)\n",
        "label_with_filename=np.column_stack((labelVector,filenames))\n",
        "#print(len(filenames))\n",
        "print(len(labelVector))"
      ],
      "execution_count": null,
      "outputs": []
    },
    {
      "cell_type": "code",
      "metadata": {
        "id": "HKCpOos15ahM"
      },
      "source": [
        "\n",
        "import numpy as gfg\n",
        "dir_save='/content/drive/MyDrive/Colab Notebooks/ORGANIZE/created_csv/'  \n",
        "  \n",
        "arr = Featuress\n",
        "# reshaping the array from 3D\n",
        "# matrice to 2D matrice.\n",
        "arr_reshaped = arr.reshape(arr.shape[0], -1)\n",
        "  \n",
        "# saving reshaped array to file.\n",
        "gfg.savetxt(dir_save+\"Features_smote.txt\", arr_reshaped)\n",
        "\n",
        "# retrieving data from file.\n",
        "loaded_arr = gfg.loadtxt(dir_save+\"Features_smote.txt\")\n",
        "# This loadedArr is a 2D array, therefore\n",
        "# we need to convert it to the original\n",
        "# array shape.reshaping to get original\n",
        "# matrice with original shape.\n",
        "load_original_arr = loaded_arr.reshape(\n",
        "    loaded_arr.shape[0], loaded_arr.shape[1] // arr.shape[2], arr.shape[2])\n",
        "  \n",
        "# check the shapes:\n",
        "print(\"shape of arr: \", arr.shape)\n",
        "print(\"shape of load_original_arr: \", load_original_arr.shape)\n",
        "  \n",
        "# check if both arrays are same or not:\n",
        "if (load_original_arr == arr).all():\n",
        "    print(\"Yes, both the arrays are same\")\n",
        "else:\n",
        "    print(\"No, both the arrays are not same\")\n",
        "if (loaded_arr2 == arr2).all():\n",
        "    print(\"Yes, both the arrays are same\")\n",
        "else:\n",
        "    print(\"No, both the arrays are not same\")"
      ],
      "execution_count": null,
      "outputs": []
    },
    {
      "cell_type": "code",
      "metadata": {
        "id": "iARPe5KMye5e"
      },
      "source": [
        "#split the data first\n",
        "Featuress=load_original_arr\n",
        "#y_label\n",
        "x_train, x_test, y_train, y_test = train_test_split(Featuress,y_label,test_size=0.20)\n",
        "x_test, x_val, y_test, y_val = train_test_split(x_test, y_test, test_size=0.5)\n",
        "Y_TEST_FILENAMES=y_test[:,1]\n",
        "y_test=y_test[:,0]\n",
        "y_train=y_train[:,0]\n",
        "y_val=y_val[:,0]\n",
        "from sklearn.preprocessing import StandardScaler\n",
        "scaler=StandardScaler()\n",
        "# fit on the training dataset\n",
        "#scaler.fit(x_train.reshape(-1, x_train.shape[-1])).reshape(x_train.shape)\n",
        "# scale the training dataset\n",
        "x_train = scaler.fit_transform(x_train.reshape(-1, x_train.shape[-1])).reshape(x_train.shape)\n",
        "\n",
        "# scale the test dataset\n",
        "x_test = scaler.transform(x_test.reshape(-1, x_test.shape[-1])).reshape(x_test.shape)\n",
        "x_val=scaler.transform(x_val.reshape(-1, x_val.shape[-1])).reshape(x_val.shape)"
      ],
      "execution_count": null,
      "outputs": []
    },
    {
      "cell_type": "code",
      "metadata": {
        "id": "b6--UOqHj-gk"
      },
      "source": [
        "import pickle\n",
        "scalerfile = 'scaler.sav'\n",
        "pickle.dump(scaler, open(scalerfile, 'wb'))"
      ],
      "execution_count": null,
      "outputs": []
    },
    {
      "cell_type": "code",
      "metadata": {
        "id": "NvQjoDyyevig"
      },
      "source": [
        "dir_save='/content/drive/MyDrive/Colab Notebooks/ORGANIZE/created_csv/' \n",
        "import pandas as pd \n",
        "pd.DataFrame(Y_TEST_FILENAMES).to_csv(dir_save+\"y_test_SMOTE_after_fix_scaling.csv\",header=None, index=None)"
      ],
      "execution_count": null,
      "outputs": []
    },
    {
      "cell_type": "code",
      "metadata": {
        "id": "zyKCvpKa3OJf"
      },
      "source": [
        "from sklearn.preprocessing import StandardScaler\n",
        "Featuress=load_original_arr\n",
        "scaler=StandardScaler()\n",
        "tryyy=scaler.fit_transform(Featuress.reshape(-1, Featuress.shape[-1])).reshape(Featuress.shape)\n",
        "X=tryyy\n",
        "y=labelVector"
      ],
      "execution_count": null,
      "outputs": []
    },
    {
      "cell_type": "code",
      "metadata": {
        "colab": {
          "base_uri": "https://localhost:8080/"
        },
        "id": "OVQZ4rjBH0be",
        "outputId": "eb5691e2-dc19-4a9c-b1cc-1f40f326fd51"
      },
      "source": [
        "print(X.shape)\n",
        "#np.save(dir_save+\"features_smote\", X)\n",
        "print(len(labelVector))"
      ],
      "execution_count": null,
      "outputs": [
        {
          "output_type": "stream",
          "name": "stdout",
          "text": [
            "(1620, 100, 39)\n",
            "8895\n"
          ]
        }
      ]
    },
    {
      "cell_type": "markdown",
      "metadata": {
        "id": "VlmiNMbu5-4Q"
      },
      "source": [
        "SMOTE"
      ]
    },
    {
      "cell_type": "code",
      "metadata": {
        "id": "crJPEcfFL8D1"
      },
      "source": [
        "#SPLITTING THE DATA \n",
        "x_test=[]\n",
        "x_train=[]\n",
        "x_val=[]\n",
        "y_test=[]\n",
        "y_train=[]\n",
        "y_val=[]\n",
        "x_train, x_test, y_train, y_test = train_test_split(X, labelVector,test_size=0.20) #label_with_filename, test_size=0.20)\n",
        "#Y_TEST_FILENAMES=y_test[:,1]\n",
        "#y_test=y_test[:,0]\n",
        "#y_train=y_train[:,0]\n",
        "#Split into training and validation sets\n",
        "x_test, x_val, y_test, y_val = train_test_split(x_test, y_test, test_size=0.5)"
      ],
      "execution_count": null,
      "outputs": []
    },
    {
      "cell_type": "code",
      "metadata": {
        "colab": {
          "base_uri": "https://localhost:8080/"
        },
        "id": "PAEb2PO2t53Y",
        "outputId": "434806c5-f08e-4857-8427-9d03b7a223ff"
      },
      "source": [
        "print(x_train.shape)\n",
        "y_train=np.array(y_train) \n",
        "print(y_train.shape)\n",
        "y_val=np.array(y_val) \n",
        "print(y_val.shape)\n",
        "print(x_val.shape)\n",
        "print(x_test.shape)\n",
        "y_test=np.array(y_test) \n",
        "print(y_test.shape)"
      ],
      "execution_count": null,
      "outputs": [
        {
          "output_type": "stream",
          "name": "stdout",
          "text": [
            "(7116, 100, 39)\n",
            "(7116,)\n",
            "(890,)\n",
            "(890, 100, 39)\n",
            "(889, 100, 39)\n",
            "(889,)\n"
          ]
        }
      ]
    },
    {
      "cell_type": "code",
      "metadata": {
        "id": "1M599oPmvaKK"
      },
      "source": [
        "#x_trainN, x_testN, y_trainN, y_testN = train_test_split(X, label_with_filename, test_size=0.10)"
      ],
      "execution_count": null,
      "outputs": []
    },
    {
      "cell_type": "code",
      "metadata": {
        "id": "XWvQk4cHwyH8",
        "colab": {
          "base_uri": "https://localhost:8080/"
        },
        "outputId": "19aa04a7-d7dd-4b9f-b1d0-c3dd2052b3cf"
      },
      "source": [
        "#print(y_testN.shape)\n",
        "#print(y_test)\n",
        "#Y_TEST_FILENAMES=y_testN[:,1]\n",
        "#np.savetxt(dir_save+\"y_test_SMOTE.csv\", Y_TEST_FILENAMES)\n",
        "dir_save='/content/drive/MyDrive/Colab Notebooks/ORGANIZE/created_csv/' \n",
        "import pandas as pd \n",
        "pd.DataFrame(Y_TEST_FILENAMES).to_csv(dir_save+\"y_test_SMOTE.csv\",header=None, index=None)\n",
        "print(Y_TEST_FILENAMES)"
      ],
      "execution_count": null,
      "outputs": [
        {
          "output_type": "stream",
          "name": "stdout",
          "text": [
            "['0b9f35c3-a4b1-4e69-af1c-8c7f3402d531.wav'\n",
            " '4afb3c5f-9d50-4e81-84ae-aab7d5ea9fc9.wav'\n",
            " '913141ad-f345-477b-84db-c6dfa8eba548.wav' ...\n",
            " '39033706-e96b-4e3a-a480-08da7197798d.wav'\n",
            " '75540112-dbdb-4dbc-9712-fc568d3c2506.wav'\n",
            " '3d50b1a8-1d08-47e4-9382-2fe2520cd296.wav']\n"
          ]
        }
      ]
    },
    {
      "cell_type": "code",
      "metadata": {
        "colab": {
          "base_uri": "https://localhost:8080/"
        },
        "id": "MHogTS_uLVAD",
        "outputId": "26c6cba4-09d2-44e6-dcfa-0c7eafbb1565"
      },
      "source": [
        "#x_train, y_train = zip(*train_dataset)\n",
        "#x_test, y_test = zip(*test_dataset)\n",
        "from collections import Counter\n",
        "from imblearn.over_sampling import SMOTE\n",
        "from imblearn.over_sampling import SMOTE\n",
        "dim_1 = np.array(x_train).shape[0]\n",
        "dim_2 = np.array(x_train).shape[1]\n",
        "dim_3 = np.array(x_train).shape[2]\n",
        "\n",
        "new_dim = dim_1 * dim_2\n",
        "\n",
        "new_x_train = np.array(x_train).reshape(new_dim, dim_3)\n",
        "\n",
        "\n",
        "new_y_train = []\n",
        "for i in range(len(y_train)):\n",
        "    # print(y_train[i])\n",
        "    new_y_train.extend([y_train[i]]*dim_2)\n",
        "\n",
        "new_y_train = np.array(new_y_train)\n",
        "\n",
        "# transform the dataset\n",
        "oversample1 = SMOTE()\n",
        "X_Train, Y_Train = oversample1.fit_resample(new_x_train, new_y_train)\n",
        "# summarize the new class distribution\n",
        "counter = Counter(Y_Train)\n",
        "print('The number of samples in TRAIN: ', counter)\n",
        "\n",
        "\n",
        "\n",
        "x_train_SMOTE = X_Train.reshape(int(X_Train.shape[0]/dim_2), dim_2, dim_3)\n",
        "\n",
        "y_train_SMOTE = []\n",
        "for i in range(int(X_Train.shape[0]/dim_2)):\n",
        "    # print(i)\n",
        "    value_list = list(Y_Train.reshape(int(X_Train.shape[0]/dim_2), dim_2)[i])\n",
        "    # print(list(set(value_list)))\n",
        "    y_train_SMOTE.extend(list(set(value_list)))\n",
        "    ## Check: if there is any different value in a list \n",
        "    if len(set(value_list)) != 1:\n",
        "        print('\\n\\n********* STOP: THERE IS SOMETHING WRONG IN TRAIN ******\\n\\n')\n",
        "    \n",
        "\n",
        "\n",
        "dim_1 = np.array(x_test).shape[0]\n",
        "dim_2 = np.array(x_test).shape[1]\n",
        "dim_3 = np.array(x_test).shape[2]\n",
        "\n",
        "new_dim = dim_1 * dim_2\n",
        "\n",
        "new_x_test = np.array(x_test).reshape(new_dim, dim_3)\n",
        "\n",
        "\n",
        "new_y_test = []\n",
        "for i in range(len(y_test)):\n",
        "    # print(y_train[i])\n",
        "    new_y_test.extend([y_test[i]]*dim_2)\n",
        "\n",
        "new_y_test = np.array(new_y_test)\n",
        "\n",
        "# transform the dataset\n",
        "oversample2 = SMOTE()\n",
        "X_Test, Y_Test = oversample2.fit_resample(new_x_test, new_y_test)\n",
        "# summarize the new class distribution\n",
        "counter = Counter(Y_Test)\n",
        "print('The number of samples in TEST: ', counter)\n",
        "\n",
        "\n",
        "\n",
        "x_test_SMOTE = X_Test.reshape(int(X_Test.shape[0]/dim_2), dim_2, dim_3)\n",
        "\n",
        "y_test_SMOTE = []\n",
        "for i in range(int(X_Test.shape[0]/dim_2)):\n",
        "    # print(i)\n",
        "    value_list = list(Y_Test.reshape(int(X_Test.shape[0]/dim_2), dim_2)[i])\n",
        "    # print(list(set(value_list)))\n",
        "    y_test_SMOTE.extend(list(set(value_list)))\n",
        "    ## Check: if there is any different value in a list \n",
        "    if len(set(value_list)) != 1:\n",
        "        print('\\n\\n********* STOP: THERE IS SOMETHING WRONG IN TEST ******\\n\\n')\n",
        "#VALIDATION SET\n",
        "\n",
        "dim_1 = np.array(x_val).shape[0]\n",
        "dim_2 = np.array(x_val).shape[1]\n",
        "dim_3 = np.array(x_val).shape[2]\n",
        "\n",
        "new_dim = dim_1 * dim_2\n",
        "\n",
        "new_x_val = np.array(x_val).reshape(new_dim, dim_3)\n",
        "\n",
        "\n",
        "new_y_val = []\n",
        "for i in range(len(y_val)):\n",
        "    # print(y_train[i])\n",
        "    new_y_val.extend([y_val[i]]*dim_2)\n",
        "\n",
        "new_y_val = np.array(new_y_val)\n",
        "\n",
        "# transform the dataset\n",
        "oversample3 = SMOTE()\n",
        "X_Val, Y_Val = oversample3.fit_resample(new_x_val, new_y_val)\n",
        "# summarize the new class distribution\n",
        "counter = Counter(Y_Val)\n",
        "print('The number of samples in VALIDATION: ', counter)\n",
        "\n",
        "\n",
        "\n",
        "x_val_SMOTE = X_Val.reshape(int(X_Val.shape[0]/dim_2), dim_2, dim_3)\n",
        "\n",
        "y_val_SMOTE = []\n",
        "for i in range(int(X_Val.shape[0]/dim_2)):\n",
        "    # print(i)\n",
        "    value_list = list(Y_Val.reshape(int(X_Val.shape[0]/dim_2), dim_2)[i])\n",
        "    # print(list(set(value_list)))\n",
        "    y_val_SMOTE.extend(list(set(value_list)))\n",
        "    ## Check: if there is any different value in a list \n",
        "    if len(set(value_list)) != 1:\n",
        "        print('\\n\\n********* STOP: THERE IS SOMETHING WRONG IN VALIDATION ******\\n\\n')"
      ],
      "execution_count": null,
      "outputs": [
        {
          "output_type": "stream",
          "name": "stdout",
          "text": [
            "The number of samples in TRAIN:  Counter({'0': 656600, '1': 656600})\n",
            "The number of samples in TEST:  Counter({'0': 82100, '1': 82100})\n",
            "The number of samples in VALIDATION:  Counter({'0': 81300, '1': 81300})\n"
          ]
        }
      ]
    },
    {
      "cell_type": "code",
      "metadata": {
        "colab": {
          "base_uri": "https://localhost:8080/"
        },
        "id": "BuXsvmSD4z9d",
        "outputId": "edae6913-9216-48f9-fc64-1451c9be76ad"
      },
      "source": [
        "from keras.layers import LSTM\n",
        "from keras.models import Sequential\n",
        "from keras.layers import Dense, Conv1D, Flatten, Conv2D, MaxPooling1D,MaxPool2D,Dropout,Activation, MaxPooling2D\n",
        "from keras.wrappers.scikit_learn import KerasClassifier\n",
        "from keras.constraints import maxnorm\n",
        "from tensorflow import keras\n",
        "from tensorflow.keras import layers\n",
        "y_test_SMOTE=np.array(y_test_SMOTE)\n",
        "x_val_SMOTE=np.array(x_val_SMOTE)\n",
        "x_test_SMOTE=np.array(x_test_SMOTE)\n",
        "x_train_SMOTE=np.array(x_train_SMOTE)\n",
        "y_train_SMOTE=np.array(y_train_SMOTE)\n",
        "y_val_SMOTE=np.array(y_val_SMOTE)\n",
        "print(x_val_SMOTE.shape)\n",
        "print(x_test_SMOTE.shape)\n",
        "print(x_train_SMOTE.shape)\n",
        "print(y_test_SMOTE.shape)\n",
        "#X_Test, Y_Test=np.array(X_train),np.array(y_train)\n",
        "#X_Val, Y_Val\n",
        "#X_val=np.array(X_val)\n",
        "#y_val=np.array(y_val)"
      ],
      "execution_count": null,
      "outputs": [
        {
          "output_type": "stream",
          "name": "stdout",
          "text": [
            "(1626, 100, 39)\n",
            "(1642, 100, 39)\n",
            "(13132, 100, 39)\n",
            "(1642,)\n"
          ]
        }
      ]
    },
    {
      "cell_type": "markdown",
      "source": [
        "testing with imbalanced dataset"
      ],
      "metadata": {
        "id": "OpE_fa6EZeqM"
      }
    },
    {
      "cell_type": "code",
      "metadata": {
        "id": "48UFpozV42XJ"
      },
      "source": [
        "input_shape=(x_train_SMOTE.shape[1],x_train_SMOTE.shape[2])\n",
        "#For coughvid features:\n",
        "LSTM_model = Sequential()\n",
        "LSTM_model.add(LSTM(32,input_shape=input_shape))\n",
        "#for coughvid\n",
        "LSTM_model.add(Dropout(0.2))\n",
        "LSTM_model.add(Dense(32,activation='relu'))\n",
        "LSTM_model.add(Dense(1, activation='sigmoid'))\n",
        "LSTM_model._name = 'lstm_model'\n",
        "LSTM_model.compile(optimizer=keras.optimizers.Adam(learning_rate=0.001),loss='binary_crossentropy',metrics=['accuracy'])"
      ],
      "execution_count": null,
      "outputs": []
    },
    {
      "cell_type": "code",
      "source": [
        "\n",
        "y_test_INT=[0]*len(y_test)\n",
        "for i in range(len(y_test)):\n",
        "  y_test_INT[i]=int(y_test[i])"
      ],
      "metadata": {
        "id": "FN_K3TQua1xW"
      },
      "execution_count": null,
      "outputs": []
    },
    {
      "cell_type": "code",
      "source": [
        "from sklearn.metrics import mean_squared_error,confusion_matrix,classification_report\n",
        "from sklearn.metrics import ConfusionMatrixDisplay\n",
        "y_pred_LSTM=0\n",
        "y_pred_LSTM=LSTM_model.predict(x_test)\n",
        "y_pred_LSTM = (y_pred_LSTM > 0.5)\n",
        "cm_LSTM = confusion_matrix(y_test_INT,y_pred_LSTM)\n",
        "display_labels=['healthy','COVID-19']\n",
        "conf_matrix = confusion_matrix(y_test_INT, y_pred_LSTM)\n",
        "#print(Y_predict)\n",
        "print(classification_report(y_test_INT,y_pred_LSTM,target_names=display_labels))\n",
        "print(ConfusionMatrixDisplay(cm_LSTM,display_labels=display_labels).plot(values_format='.0f'))"
      ],
      "metadata": {
        "colab": {
          "base_uri": "https://localhost:8080/",
          "height": 455
        },
        "id": "rGKeBVKwamck",
        "outputId": "963d869a-b605-4c96-f857-99b770e95091"
      },
      "execution_count": null,
      "outputs": [
        {
          "output_type": "stream",
          "name": "stdout",
          "text": [
            "              precision    recall  f1-score   support\n",
            "\n",
            "     healthy       0.92      0.99      0.95       821\n",
            "    COVID-19       0.00      0.00      0.00        68\n",
            "\n",
            "    accuracy                           0.91       889\n",
            "   macro avg       0.46      0.49      0.48       889\n",
            "weighted avg       0.85      0.91      0.88       889\n",
            "\n",
            "<sklearn.metrics._plot.confusion_matrix.ConfusionMatrixDisplay object at 0x7f07e9abfd10>\n"
          ]
        },
        {
          "output_type": "display_data",
          "data": {
            "image/png": "[encoded data removed]",
            "text/plain": [
              "<Figure size 432x288 with 2 Axes>"
            ]
          },
          "metadata": {
            "needs_background": "light"
          }
        }
      ]
    },
    {
      "cell_type": "code",
      "source": [
        "from sklearn.metrics import precision_recall_curve,roc_curve\n",
        "from sklearn.metrics import f1_score,roc_auc_score\n",
        "y_test=y_test_INT\n",
        "ns_probs = [0 for _ in range(len(y_test))]\n",
        "# keep probabilities for the positive outcome only\n",
        "y_pred_LSTM=LSTM_model.predict(x_test)\n",
        "lr_probs= y_pred_LSTM\n",
        "# calculate scores\n",
        "ns_auc = roc_auc_score(y_test, ns_probs)\n",
        "lr_auc = roc_auc_score(y_test, lr_probs)\n",
        "# summarize scores\n",
        "print('No Skill: ROC AUC=%.3f' % (ns_auc))\n",
        "print('LSTM: ROC AUC=%.3f' % (lr_auc))\n",
        "# calculate roc curves\n",
        "ns_fpr, ns_tpr, _ = roc_curve(y_test, ns_probs)\n",
        "lr_fpr, lr_tpr, _ = roc_curve(y_test, lr_probs)\n",
        "# plot the roc curve for the model\n",
        "pyplot.plot(ns_fpr, ns_tpr, linestyle='--', label='No Skill')\n",
        "pyplot.plot(lr_fpr, lr_tpr, marker='.', label='LSTM')\n",
        "# axis labels\n",
        "pyplot.xlabel('False Positive Rate')\n",
        "pyplot.ylabel('True Positive Rate')\n",
        "# show the legend\n",
        "pyplot.legend()\n",
        "# show the plot\n",
        "pyplot.show()"
      ],
      "metadata": {
        "colab": {
          "base_uri": "https://localhost:8080/",
          "height": 314
        },
        "id": "1YwBLxcHcWAc",
        "outputId": "e3ac611f-9ebb-4d49-cd6e-cfdccd818925"
      },
      "execution_count": null,
      "outputs": [
        {
          "output_type": "stream",
          "name": "stdout",
          "text": [
            "No Skill: ROC AUC=0.500\n",
            "LSTM: ROC AUC=0.505\n"
          ]
        },
        {
          "output_type": "display_data",
          "data": {
            "image/png": "[encoded data removed]",
            "text/plain": [
              "<Figure size 432x288 with 1 Axes>"
            ]
          },
          "metadata": {
            "needs_background": "light"
          }
        }
      ]
    },
    {
      "cell_type": "code",
      "metadata": {
        "colab": {
          "base_uri": "https://localhost:8080/"
        },
        "id": "tIvTJm903GMr",
        "outputId": "3ebe566b-70db-4466-c4c7-b88685f847f0"
      },
      "source": [
        "print(x_val_SMOTE.shape)\n",
        "print(y_val_SMOTE.shape)\n",
        "print(x_train_SMOTE.shape)\n",
        "print(y_train_SMOTE.shape)\n",
        "print(x_test_SMOTE.shape)\n",
        "print(y_test_SMOTE.shape)"
      ],
      "execution_count": null,
      "outputs": [
        {
          "output_type": "stream",
          "name": "stdout",
          "text": [
            "(1644, 100, 39)\n",
            "(1644,)\n",
            "(13108, 100, 39)\n",
            "(13108,)\n",
            "(1648, 100, 39)\n",
            "(1648,)\n"
          ]
        }
      ]
    },
    {
      "cell_type": "code",
      "metadata": {
        "colab": {
          "base_uri": "https://localhost:8080/"
        },
        "id": "TvLgY1ut23sc",
        "outputId": "3788f59b-c46b-488d-91cc-75a535a940e2"
      },
      "source": [
        "y_val_SMOTE_INT=[0]*len(y_val_SMOTE)\n",
        "for i in range(len(y_val_SMOTE)):\n",
        "  y_val_SMOTE_INT[i]=int(y_val_SMOTE[i])\n",
        "\n",
        "\n",
        "y_train_SMOTE_INT=[0]*len(y_train_SMOTE)\n",
        "for i in range(len(y_train_SMOTE)):\n",
        "  y_train_SMOTE_INT[i]=int(y_train_SMOTE[i])\n",
        "\n",
        "\n",
        "\n",
        "y_test_SMOTE_INT=[0]*len(y_test_SMOTE)\n",
        "for i in range(len(y_test_SMOTE)):\n",
        "  y_test_SMOTE_INT[i]=int(y_test_SMOTE[i])\n",
        "\n",
        "\n",
        "print(type(y_val_SMOTE_INT))\n",
        "print(type(y_train_SMOTE_INT))\n",
        "y_val_SMOTE_INT = np.array(y_val_SMOTE_INT)\n",
        "y_train_SMOTE_INT=np.array(y_train_SMOTE_INT)"
      ],
      "execution_count": null,
      "outputs": [
        {
          "output_type": "stream",
          "name": "stdout",
          "text": [
            "<class 'list'>\n",
            "<class 'list'>\n"
          ]
        }
      ]
    },
    {
      "cell_type": "code",
      "metadata": {
        "colab": {
          "base_uri": "https://localhost:8080/"
        },
        "id": "31Vxo8mh44x4",
        "outputId": "12b67397-7118-4163-8051-d89437cebe2d"
      },
      "source": [
        "import tensorflow as tf\n",
        "es = tf.keras.callbacks.EarlyStopping(monitor='val_loss', mode='min', verbose=0, patience=5)\n",
        "historyyy=LSTM_model.fit(x_train_SMOTE,y_train_SMOTE_INT,validation_data=(x_val_SMOTE,y_val_SMOTE_INT),batch_size= 128,epochs=200,callbacks=es)"
      ],
      "execution_count": null,
      "outputs": [
        {
          "output_type": "stream",
          "name": "stdout",
          "text": [
            "Epoch 1/200\n",
            "103/103 [==============================] - 10s 73ms/step - loss: 0.4192 - accuracy: 0.8236 - val_loss: 0.1732 - val_accuracy: 0.9502\n",
            "Epoch 2/200\n",
            "103/103 [==============================] - 7s 68ms/step - loss: 0.1584 - accuracy: 0.9566 - val_loss: 0.1676 - val_accuracy: 0.9520\n",
            "Epoch 3/200\n",
            "103/103 [==============================] - 7s 67ms/step - loss: 0.1477 - accuracy: 0.9580 - val_loss: 0.1646 - val_accuracy: 0.9520\n",
            "Epoch 4/200\n",
            "103/103 [==============================] - 7s 68ms/step - loss: 0.1451 - accuracy: 0.9581 - val_loss: 0.1635 - val_accuracy: 0.9526\n",
            "Epoch 5/200\n",
            "103/103 [==============================] - 7s 68ms/step - loss: 0.1446 - accuracy: 0.9582 - val_loss: 0.1639 - val_accuracy: 0.9526\n",
            "Epoch 6/200\n",
            "103/103 [==============================] - 7s 68ms/step - loss: 0.1430 - accuracy: 0.9581 - val_loss: 0.1639 - val_accuracy: 0.9526\n",
            "Epoch 7/200\n",
            "103/103 [==============================] - 7s 68ms/step - loss: 0.1394 - accuracy: 0.9583 - val_loss: 0.1653 - val_accuracy: 0.9526\n",
            "Epoch 8/200\n",
            "103/103 [==============================] - 7s 68ms/step - loss: 0.1427 - accuracy: 0.9575 - val_loss: 0.1655 - val_accuracy: 0.9520\n",
            "Epoch 9/200\n",
            "103/103 [==============================] - 7s 68ms/step - loss: 0.1391 - accuracy: 0.9583 - val_loss: 0.1652 - val_accuracy: 0.9526\n",
            "Epoch 10/200\n",
            "103/103 [==============================] - 7s 68ms/step - loss: 0.1359 - accuracy: 0.9583 - val_loss: 0.1690 - val_accuracy: 0.9526\n",
            "Epoch 11/200\n",
            "103/103 [==============================] - 7s 68ms/step - loss: 0.1331 - accuracy: 0.9589 - val_loss: 0.1716 - val_accuracy: 0.9526\n",
            "Epoch 12/200\n",
            "103/103 [==============================] - 7s 68ms/step - loss: 0.1309 - accuracy: 0.9587 - val_loss: 0.1727 - val_accuracy: 0.9520\n",
            "Epoch 13/200\n",
            "103/103 [==============================] - 7s 68ms/step - loss: 0.1297 - accuracy: 0.9602 - val_loss: 0.1752 - val_accuracy: 0.9526\n",
            "Epoch 14/200\n",
            "103/103 [==============================] - 7s 69ms/step - loss: 0.1259 - accuracy: 0.9604 - val_loss: 0.1778 - val_accuracy: 0.9520\n",
            "Epoch 15/200\n",
            "103/103 [==============================] - 7s 69ms/step - loss: 0.1227 - accuracy: 0.9610 - val_loss: 0.1793 - val_accuracy: 0.9502\n",
            "Epoch 16/200\n",
            "103/103 [==============================] - 7s 69ms/step - loss: 0.1179 - accuracy: 0.9617 - val_loss: 0.1854 - val_accuracy: 0.9483\n",
            "Epoch 17/200\n",
            "103/103 [==============================] - 7s 69ms/step - loss: 0.1151 - accuracy: 0.9618 - val_loss: 0.1869 - val_accuracy: 0.9477\n",
            "Epoch 18/200\n",
            "103/103 [==============================] - 7s 68ms/step - loss: 0.1210 - accuracy: 0.9605 - val_loss: 0.1834 - val_accuracy: 0.9490\n",
            "Epoch 19/200\n",
            "103/103 [==============================] - 7s 68ms/step - loss: 0.1187 - accuracy: 0.9613 - val_loss: 0.1831 - val_accuracy: 0.9490\n",
            "Epoch 20/200\n",
            "103/103 [==============================] - 7s 69ms/step - loss: 0.1107 - accuracy: 0.9636 - val_loss: 0.1900 - val_accuracy: 0.9502\n",
            "Epoch 21/200\n",
            "103/103 [==============================] - 7s 70ms/step - loss: 0.1078 - accuracy: 0.9643 - val_loss: 0.1992 - val_accuracy: 0.9471\n",
            "Epoch 22/200\n",
            "103/103 [==============================] - 7s 69ms/step - loss: 0.1049 - accuracy: 0.9644 - val_loss: 0.2113 - val_accuracy: 0.9471\n",
            "Epoch 23/200\n",
            "103/103 [==============================] - 7s 69ms/step - loss: 0.1006 - accuracy: 0.9661 - val_loss: 0.2076 - val_accuracy: 0.9477\n",
            "Epoch 24/200\n",
            "103/103 [==============================] - 7s 70ms/step - loss: 0.0945 - accuracy: 0.9684 - val_loss: 0.2164 - val_accuracy: 0.9459\n",
            "Epoch 25/200\n",
            "103/103 [==============================] - 7s 70ms/step - loss: 0.0877 - accuracy: 0.9699 - val_loss: 0.2277 - val_accuracy: 0.9434\n",
            "Epoch 26/200\n",
            "103/103 [==============================] - 7s 69ms/step - loss: 0.0869 - accuracy: 0.9719 - val_loss: 0.2335 - val_accuracy: 0.9416\n",
            "Epoch 27/200\n",
            "103/103 [==============================] - 7s 69ms/step - loss: 0.0823 - accuracy: 0.9724 - val_loss: 0.2348 - val_accuracy: 0.9397\n",
            "Epoch 28/200\n",
            "103/103 [==============================] - 7s 68ms/step - loss: 0.0761 - accuracy: 0.9746 - val_loss: 0.2565 - val_accuracy: 0.9391\n",
            "Epoch 29/200\n",
            "103/103 [==============================] - 7s 69ms/step - loss: 0.0882 - accuracy: 0.9689 - val_loss: 0.2183 - val_accuracy: 0.9428\n"
          ]
        }
      ]
    },
    {
      "cell_type": "code",
      "metadata": {
        "colab": {
          "base_uri": "https://localhost:8080/",
          "height": 453
        },
        "id": "8VK8JxT-48PR",
        "outputId": "177de2fe-2c39-43c0-d3ab-4a55a82eb392"
      },
      "source": [
        "from sklearn.metrics import mean_squared_error,confusion_matrix,classification_report\n",
        "from sklearn.metrics import ConfusionMatrixDisplay\n",
        "y_pred_LSTM=0\n",
        "y_pred_LSTM=LSTM_model.predict(x_test_SMOTE)\n",
        "y_pred_LSTM = (y_pred_LSTM > 0.5)\n",
        "cm_LSTM = confusion_matrix(y_test_SMOTE_INT,y_pred_LSTM)\n",
        "display_labels=['healthy','COVID-19']\n",
        "conf_matrix = confusion_matrix(y_test_SMOTE_INT, y_pred_LSTM)\n",
        "#print(Y_predict)\n",
        "print(classification_report(y_test_SMOTE_INT,y_pred_LSTM,target_names=display_labels))\n",
        "print(ConfusionMatrixDisplay(cm_LSTM,display_labels=display_labels).plot(values_format='.0f'))"
      ],
      "execution_count": null,
      "outputs": [
        {
          "output_type": "stream",
          "name": "stdout",
          "text": [
            "              precision    recall  f1-score   support\n",
            "\n",
            "     healthy       0.91      0.96      0.94       812\n",
            "    COVID-19       0.96      0.91      0.93       812\n",
            "\n",
            "    accuracy                           0.93      1624\n",
            "   macro avg       0.94      0.93      0.93      1624\n",
            "weighted avg       0.94      0.93      0.93      1624\n",
            "\n",
            "<sklearn.metrics._plot.confusion_matrix.ConfusionMatrixDisplay object at 0x7f6a9169fc90>\n"
          ]
        },
        {
          "output_type": "display_data",
          "data": {
            "image/png": "[encoded data removed]",
            "text/plain": [
              "<Figure size 432x288 with 2 Axes>"
            ]
          },
          "metadata": {
            "needs_background": "light"
          }
        }
      ]
    },
    {
      "cell_type": "code",
      "metadata": {
        "colab": {
          "base_uri": "https://localhost:8080/",
          "height": 314
        },
        "id": "rdJEAvciPCqG",
        "outputId": "f3f2aaac-28d7-461d-d46d-c6ea366a8cd4"
      },
      "source": [
        "from sklearn.metrics import precision_recall_curve,roc_curve\n",
        "from sklearn.metrics import f1_score,roc_auc_score\n",
        "y_test=y_test_SMOTE_INT\n",
        "ns_probs = [0 for _ in range(len(y_test))]\n",
        "# keep probabilities for the positive outcome only\n",
        "X_test=x_test_SMOTE\n",
        "y_pred_LSTM=LSTM_model.predict(X_test)\n",
        "lr_probs= y_pred_LSTM\n",
        "# calculate scores\n",
        "ns_auc = roc_auc_score(y_test, ns_probs)\n",
        "lr_auc = roc_auc_score(y_test, lr_probs)\n",
        "# summarize scores\n",
        "print('No Skill: ROC AUC=%.3f' % (ns_auc))\n",
        "print('LSTM: ROC AUC=%.3f' % (lr_auc))\n",
        "# calculate roc curves\n",
        "ns_fpr, ns_tpr, _ = roc_curve(y_test, ns_probs)\n",
        "lr_fpr, lr_tpr, _ = roc_curve(y_test, lr_probs)\n",
        "# plot the roc curve for the model\n",
        "pyplot.plot(ns_fpr, ns_tpr, linestyle='--', label='No Skill')\n",
        "pyplot.plot(lr_fpr, lr_tpr, marker='.', label='LSTM')\n",
        "# axis labels\n",
        "pyplot.xlabel('False Positive Rate')\n",
        "pyplot.ylabel('True Positive Rate')\n",
        "# show the legend\n",
        "pyplot.legend()\n",
        "# show the plot\n",
        "pyplot.show()"
      ],
      "execution_count": null,
      "outputs": [
        {
          "output_type": "stream",
          "name": "stdout",
          "text": [
            "No Skill: ROC AUC=0.500\n",
            "LSTM: ROC AUC=0.952\n"
          ]
        },
        {
          "output_type": "display_data",
          "data": {
            "image/png": "[encoded data removed]",
            "text/plain": [
              "<Figure size 432x288 with 1 Axes>"
            ]
          },
          "metadata": {
            "needs_background": "light"
          }
        }
      ]
    },
    {
      "cell_type": "code",
      "metadata": {
        "id": "WA1WDk7f0zRK"
      },
      "source": [
        "y_test_INT=[0]*len(y_test)\n",
        "for i in range(len(y_test)):\n",
        "  y_test_INT[i]=int(y_test[i])\n",
        "\n"
      ],
      "execution_count": null,
      "outputs": []
    },
    {
      "cell_type": "code",
      "metadata": {
        "colab": {
          "base_uri": "https://localhost:8080/"
        },
        "id": "KH0nCDmoSVc-",
        "outputId": "a76db437-f42f-4a66-8808-85a8a8d1b18a"
      },
      "source": [
        "#for i in range(len(x_test)):\n",
        "#  x_test_INT[i]=int(x_test[i])\n",
        "print(x_test.shape)\n",
        "\n",
        "print(len(y_test_INT))"
      ],
      "execution_count": null,
      "outputs": [
        {
          "output_type": "stream",
          "name": "stdout",
          "text": [
            "(889, 100, 39)\n",
            "1624\n"
          ]
        }
      ]
    },
    {
      "cell_type": "code",
      "metadata": {
        "colab": {
          "base_uri": "https://localhost:8080/",
          "height": 453
        },
        "id": "TBtyNFXN0OhA",
        "outputId": "906d019d-f317-4a17-be46-a78ce1aa0fbe"
      },
      "source": [
        "\n",
        "y_pred_LSTM=0\n",
        "y_pred_LSTM=LSTM_model.predict(x_test)\n",
        "y_pred_LSTM = (y_pred_LSTM > 0.5)\n",
        "cm_LSTM = confusion_matrix(y_test_INT,y_pred_LSTM)\n",
        "display_labels=['healthy','COVID-19']\n",
        "conf_matrix = confusion_matrix(y_test_INT, y_pred_LSTM)\n",
        "#print(Y_predict)\n",
        "print(classification_report(y_test_INT,y_pred_LSTM,target_names=display_labels))\n",
        "print(ConfusionMatrixDisplay(cm_LSTM,display_labels=display_labels).plot(values_format='.0f'))"
      ],
      "execution_count": null,
      "outputs": [
        {
          "output_type": "stream",
          "name": "stdout",
          "text": [
            "              precision    recall  f1-score   support\n",
            "\n",
            "     healthy       0.97      0.99      0.98       820\n",
            "    COVID-19       0.83      0.58      0.68        69\n",
            "\n",
            "    accuracy                           0.96       889\n",
            "   macro avg       0.90      0.78      0.83       889\n",
            "weighted avg       0.96      0.96      0.95       889\n",
            "\n",
            "<sklearn.metrics._plot.confusion_matrix.ConfusionMatrixDisplay object at 0x7f6a8f92c890>\n"
          ]
        },
        {
          "output_type": "display_data",
          "data": {
            "image/png": "[encoded data removed]",
            "text/plain": [
              "<Figure size 432x288 with 2 Axes>"
            ]
          },
          "metadata": {
            "needs_background": "light"
          }
        }
      ]
    },
    {
      "cell_type": "code",
      "metadata": {
        "colab": {
          "base_uri": "https://localhost:8080/",
          "height": 314
        },
        "id": "X9eOdnu2UGGO",
        "outputId": "c8580b19-2012-42c9-e6d5-71a4dfd9acce"
      },
      "source": [
        "from sklearn.metrics import precision_recall_curve,roc_curve\n",
        "from sklearn.metrics import f1_score,roc_auc_score\n",
        "y_test=y_test_INT\n",
        "ns_probs = [0 for _ in range(len(y_test))]\n",
        "# keep probabilities for the positive outcome only\n",
        "X_test=x_test\n",
        "y_pred_LSTM=LSTM_model.predict(X_test)\n",
        "lr_probs= y_pred_LSTM\n",
        "# calculate scores\n",
        "ns_auc = roc_auc_score(y_test, ns_probs)\n",
        "lr_auc = roc_auc_score(y_test, lr_probs)\n",
        "# summarize scores\n",
        "print('No Skill: ROC AUC=%.3f' % (ns_auc))\n",
        "print('LSTM: ROC AUC=%.3f' % (lr_auc))\n",
        "# calculate roc curves\n",
        "ns_fpr, ns_tpr, _ = roc_curve(y_test, ns_probs)\n",
        "lr_fpr, lr_tpr, _ = roc_curve(y_test, lr_probs)\n",
        "# plot the roc curve for the model\n",
        "pyplot.plot(ns_fpr, ns_tpr, linestyle='--', label='No Skill')\n",
        "pyplot.plot(lr_fpr, lr_tpr, marker='.', label='LSTM')\n",
        "# axis labels\n",
        "pyplot.xlabel('False Positive Rate')\n",
        "pyplot.ylabel('True Positive Rate')\n",
        "# show the legend\n",
        "pyplot.legend()\n",
        "# show the plot\n",
        "pyplot.show()"
      ],
      "execution_count": null,
      "outputs": [
        {
          "output_type": "stream",
          "name": "stdout",
          "text": [
            "No Skill: ROC AUC=0.500\n",
            "LSTM: ROC AUC=0.869\n"
          ]
        },
        {
          "output_type": "display_data",
          "data": {
            "image/png": "[encoded data removed]",
            "text/plain": [
              "<Figure size 432x288 with 1 Axes>"
            ]
          },
          "metadata": {
            "needs_background": "light"
          }
        }
      ]
    },
    {
      "cell_type": "code",
      "metadata": {
        "id": "QutxRB7h3EBc"
      },
      "source": [
        "LSTM_model.save('LSTM_SMOTE_after_fix_scaling.h5')"
      ],
      "execution_count": null,
      "outputs": []
    },
    {
      "cell_type": "code",
      "metadata": {
        "id": "5GgvRitTk3fM"
      },
      "source": [
        "#loss_train = history.history['accuracy']\n",
        "#loss_val = history.history['val_accuracy']\n",
        "#epochs = range(1,35)\n",
        "#plt.plot(epochs, loss_train, 'g', label='Training accuracy')\n",
        "#plt.plot(epochs, loss_val, 'b', label='validation accuracy')\n",
        "plt.plot(historyyy.history['accuracy'],label='Training accuracy')\n",
        "plt.plot(historyyy.history['val_accuracy'],label='validation accuracy')\n",
        "plt.title('Training and Validation accuracy')\n",
        "plt.xlabel('Epochs')\n",
        "plt.ylabel('Accuracy')\n",
        "plt.legend()\n",
        "plt.show()"
      ],
      "execution_count": null,
      "outputs": []
    },
    {
      "cell_type": "code",
      "metadata": {
        "id": "A3EEaLSqtLmb"
      },
      "source": [
        "plt.plot(history.history['loss'],label='Training loss')\n",
        "plt.plot(history.history['val_loss'],label='validation loss')\n",
        "plt.title('Training and Validation loss')\n",
        "plt.xlabel('Epochs')\n",
        "plt.ylabel('Loss')\n",
        "plt.legend()\n",
        "plt.show()"
      ],
      "execution_count": null,
      "outputs": []
    },
    {
      "cell_type": "markdown",
      "metadata": {
        "id": "7J358QRtOjLV"
      },
      "source": [
        "LSTM TESTING "
      ]
    },
    {
      "cell_type": "code",
      "metadata": {
        "id": "J99kIxOOYBrZ"
      },
      "source": [
        "dir='/content/drive/MyDrive/Colab Notebooks/ORGANIZE/SMOTE/'\n",
        "s=0\n",
        "import shutil\n",
        "#dest_folder='/content/drive/MyDrive/Colab Notebooks/ORGANIZE/50%SMOTE/ALL_DATA'\n",
        "new_dest='/content/drive/MyDrive/Colab Notebooks/ORGANIZE/TEST_UBALANCED/TEST_WAV'\n",
        "for filename in os.listdir(dir):\n",
        "  for line in verified_data:\n",
        "    #print(line[0][:36])\n",
        "    if filename[:36]==line[0][:36]:\n",
        "      s+=1\n",
        "      shutil.copy(dir+filename, new_dest)"
      ],
      "execution_count": null,
      "outputs": []
    },
    {
      "cell_type": "code",
      "metadata": {
        "colab": {
          "base_uri": "https://localhost:8080/"
        },
        "id": "tBkD2_mYbMY2",
        "outputId": "b7287ea2-029d-4c0b-b7c0-e147f21f3e8f"
      },
      "source": [
        "print(s)"
      ],
      "execution_count": null,
      "outputs": [
        {
          "output_type": "stream",
          "name": "stdout",
          "text": [
            "889\n"
          ]
        }
      ]
    },
    {
      "cell_type": "code",
      "metadata": {
        "colab": {
          "base_uri": "https://localhost:8080/"
        },
        "id": "rxuqxdCpQgyi",
        "outputId": "3ab36540-8707-45b0-f230-dabfbee2516e"
      },
      "source": [
        "#Both networks achieved the best results on the\n",
        "#feature set where features were extracted from 100 windows with a window\n",
        "#length 25 ms, for each recording.\n",
        "T=100\n",
        "from python_speech_features import mfcc\n",
        "import librosa\n",
        "import math\n",
        "#Set number of windows and window length\n",
        "winlen = 0.025\n",
        "num_windows = 100\n",
        "features_list=[]\n",
        "segment=[]\n",
        "all_segments=[]\n",
        "#verified_data=SMOTE_DATA\n",
        "COVID=1\n",
        "HEALTHY=0\n",
        "labelVector=[]\n",
        "index_name=0 #verified_data[0].index('uuid')\n",
        "index_status=10 #verified_data[0].index('status')\n",
        "#smote_folder='/content/drive/MyDrive/Colab Notebooks/ORGANIZE/SMOTE/'\n",
        "smote_folder='/content/drive/MyDrive/Colab Notebooks/ORGANIZE/TEST_UBALANCED/TEST_WAV/'\n",
        "filenames=[]\n",
        "s=0\n",
        "for filename in os.listdir(smote_folder):\n",
        "  #print(filename)\n",
        "  s+=1\n",
        "  #print(s)\n",
        "  segment=[]\n",
        "  all_segments=[]\n",
        "  #print(filename)\n",
        "  signal,sr=librosa.load(smote_folder+filename,sr =20000)\n",
        "  signal_pre,fs_pre=preprocess_cough(signal,fs=sr, cutoff = 10000, normalize = True, filter_ =False, downsample = False)\n",
        "  fs_pre=sr\n",
        "  segment,mask=segment_cough(signal_pre,fs_pre,cough_padding=0.1,min_cough_len=0.1, th_l_multiplier = 0.1, th_h_multiplier = 2)\n",
        "  #f_down=sr\n",
        "  #if len(segment)==0:\n",
        "  #  print(filename)\n",
        "  if len(segment)>1:\n",
        "    for line in segment:\n",
        "      all_segments=np.append(all_segments,line) #all the segments in one row from each file, one segment=one cough \n",
        "  elif len(segment)==1:\n",
        "    all_segments=np.array(segment[0])\n",
        "  if all_segments==[]:\n",
        "    all_segments=signal_pre\n",
        "  overlap=math.ceil(len(all_segments)/(num_windows))\n",
        "  mfccs=mfcc(all_segments,sr, numcep =13,winlen =winlen,winstep=overlap /sr)\n",
        "  deltas = delta(mfccs, 2)\n",
        "  delta_deltas = delta(deltas, 2)\n",
        "  concat_feat = np.concatenate((mfccs, deltas, delta_deltas), axis=1)\n",
        "  if len(concat_feat)>100:\n",
        "    concat_feat=concat_feat[:100]\n",
        "  elif len(concat_feat)<100:\n",
        "    missing_samples=100-len(concat_feat)\n",
        "    pad=np.zeros((missing_samples,39))\n",
        "    concat_feat=np.vstack((concat_feat,pad))\n",
        "  features_list.append(concat_feat)\n",
        "  filenames.append(filename)"
      ],
      "execution_count": null,
      "outputs": [
        {
          "output_type": "stream",
          "name": "stderr",
          "text": [
            "/usr/local/lib/python3.7/dist-packages/ipykernel_launcher.py:43: DeprecationWarning: elementwise comparison failed; this will raise an error in the future.\n"
          ]
        }
      ]
    },
    {
      "cell_type": "code",
      "metadata": {
        "colab": {
          "base_uri": "https://localhost:8080/"
        },
        "id": "CjTIgmU2rSE5",
        "outputId": "db38902c-8bc6-4e2f-f754-0f6f1cc5f959"
      },
      "source": [
        "print(len(os.listdir('/content/drive/MyDrive/Colab Notebooks/ORGANIZE/Random testfiles/')))"
      ],
      "execution_count": null,
      "outputs": [
        {
          "output_type": "stream",
          "name": "stdout",
          "text": [
            "50\n"
          ]
        }
      ]
    },
    {
      "cell_type": "code",
      "metadata": {
        "id": "HFi2VbyagkFL"
      },
      "source": [
        "smote_data=[0]*51\n",
        "s=0\n",
        "smote_folder='/content/drive/MyDrive/Colab Notebooks/ORGANIZE/TEST_UBALANCED/TEST_WAV'\n",
        "for filename in os.listdir(smote_folder):\n",
        "  for line in metadata:\n",
        "    if filename[:36]==line[0]:\n",
        "      smote_data=np.vstack((smote_data,line))\n"
      ],
      "execution_count": null,
      "outputs": []
    },
    {
      "cell_type": "code",
      "metadata": {
        "colab": {
          "base_uri": "https://localhost:8080/"
        },
        "id": "Q8dyqmzRmB95",
        "outputId": "85053398-582d-4177-93d1-ad156879120c"
      },
      "source": [
        "print(len(metadata[0]))\n",
        "print(len(smote_data[1:][:]))\n",
        "smote_data=smote_data[1:][:]\n",
        "SMOTE_DATA=np.vstack((metadata[0],smote_data))\n",
        "print(smote_data)"
      ],
      "execution_count": null,
      "outputs": [
        {
          "output_type": "stream",
          "name": "stdout",
          "text": [
            "51\n",
            "889\n",
            "[['de56597b-1229-4fd0-9781-c46681b35bb7'\n",
            "  '2020-04-13T21:32:11.744842+00:00' '0.975' ... '' '' '']\n",
            " ['dea176dc-0de5-4b4c-bfa2-ef80ffe96fec'\n",
            "  '2020-07-20T19:16:49.767454+00:00' '0.9981' ... '' '' '']\n",
            " ['df8ccb4f-7462-4b6d-92f6-a9ca6e333a63'\n",
            "  '2020-04-12T09:51:12.223249+00:00' '0.9755' ... '' '' '']\n",
            " ...\n",
            " ['a0bd7465-ae76-40cd-903b-3591ed9595db'\n",
            "  '2020-04-14T17:17:50.943891+00:00' '1' ... '' '' '']\n",
            " ['ac4ea2db-4fff-4a7f-a5fe-3a9ade2f1020'\n",
            "  '2020-04-14T13:46:37.446584+00:00' '1' ... '' '' '']\n",
            " ['af89b4c6-a942-4dbd-9efb-cc0ae79a9acf'\n",
            "  '2020-04-20T08:50:45.717915+00:00' '1' ... '' '' '']]\n"
          ]
        }
      ]
    },
    {
      "cell_type": "code",
      "metadata": {
        "colab": {
          "base_uri": "https://localhost:8080/"
        },
        "id": "dD6KfKW2RX6l",
        "outputId": "50c72ec8-765c-4452-b814-717698ac05b6"
      },
      "source": [
        "co=0\n",
        "he=0\n",
        "filename_label=[]\n",
        "labelVector=[]\n",
        "for filename in filenames:\n",
        "  filename_label.append(filename)\n",
        "  #found_index = np.argmax(np.logical_and(smote_data[:,0]==[filename[:36]]))\n",
        "  #print(smote_data[:,0]==[filename[:36]])                  \n",
        "  #if smote_data[found_index][index_status]=='COVID-19':\n",
        "  #  print(c)\n",
        "  for i in range(0,len(smote_data)):\n",
        "    if smote_data[i][index_name]==filename[:36]:\n",
        "      if smote_data[i][index_status]=='COVID-19':\n",
        "        co+=1\n",
        "        #print(co)\n",
        "        labelVector.append(COVID)\n",
        "      elif smote_data[i][index_status]=='healthy':\n",
        "        he+=1\n",
        "        labelVector.append(HEALTHY)\n",
        "#      else:\n",
        "#        print(filename)\n",
        "print(co)\n",
        "print(he)"
      ],
      "execution_count": null,
      "outputs": [
        {
          "output_type": "stream",
          "name": "stdout",
          "text": [
            "69\n",
            "820\n"
          ]
        }
      ]
    },
    {
      "cell_type": "code",
      "metadata": {
        "colab": {
          "base_uri": "https://localhost:8080/"
        },
        "id": "2in9IXYWSRd0",
        "outputId": "5292aeda-f57c-4bad-fbf0-bc20f36fc171"
      },
      "source": [
        "feature_matrix=[]\n",
        "features_list=np.array(features_list)\n",
        "print(features_list.shape)\n",
        "#Efor i in range(1390):\n",
        "# print(features_list[i].shape)\n",
        "#  feature_matrix.append(features_list[i])\n",
        "#\n",
        "#Featuress=features_list"
      ],
      "execution_count": null,
      "outputs": [
        {
          "output_type": "stream",
          "name": "stdout",
          "text": [
            "(889, 100, 39)\n"
          ]
        }
      ]
    },
    {
      "cell_type": "code",
      "metadata": {
        "id": "mPbXP5ZhUNUS"
      },
      "source": [
        "X=features_list\n",
        "y=labelVector"
      ],
      "execution_count": null,
      "outputs": []
    },
    {
      "cell_type": "code",
      "metadata": {
        "id": "nM0ss-g2SbJE"
      },
      "source": [
        "import pickle\n",
        "scalerfile='/content/drive/MyDrive/Colab Notebooks/ORGANIZE/scaler (2).sav'\n",
        "scaler=pickle.load(open(scalerfile,'rb'))\n",
        "tryyy=scaler.transform(X.reshape(-1, X.shape[-1])).reshape(X.shape)\n",
        "X=tryyy\n",
        "y=labelVector"
      ],
      "execution_count": null,
      "outputs": []
    },
    {
      "cell_type": "code",
      "metadata": {
        "id": "1FA30IBhyUYI"
      },
      "source": [
        "from keras.models import load_model\n",
        "model = load_model('/content/drive/MyDrive/Colab Notebooks/ORGANIZE/LSTM_SMOTE_after_fix_scaling-2.h5')"
      ],
      "execution_count": null,
      "outputs": []
    },
    {
      "cell_type": "code",
      "metadata": {
        "id": "HfF98Mt7ye7Z"
      },
      "source": [
        "y_pred_LSTM=model.predict(X)\n",
        "y_pred_LSTM = (y_pred_LSTM > 0.5)"
      ],
      "execution_count": null,
      "outputs": []
    },
    {
      "cell_type": "code",
      "metadata": {
        "colab": {
          "base_uri": "https://localhost:8080/",
          "height": 453
        },
        "id": "V1n-EWrsRoJD",
        "outputId": "048c81f0-b8bc-4d56-c793-6852895ee788"
      },
      "source": [
        "#y_pred_LSTM=0\n",
        "y_pred_LSTM=LSTM_model.predict(X)\n",
        "y_pred_LSTM = (y_pred_LSTM > 0.5)\n",
        "cm_LSTM = confusion_matrix(y,y_pred_LSTM)\n",
        "display_labels=['healthy','COVID-19']\n",
        "conf_matrix = confusion_matrix(y, y_pred_LSTM)\n",
        "#print(Y_predict)\n",
        "print(classification_report(y,y_pred_LSTM,target_names=display_labels))\n",
        "print(ConfusionMatrixDisplay(cm_LSTM,display_labels=display_labels).plot(values_format='.0f'))"
      ],
      "execution_count": null,
      "outputs": [
        {
          "output_type": "stream",
          "name": "stdout",
          "text": [
            "              precision    recall  f1-score   support\n",
            "\n",
            "     healthy       0.96      0.32      0.48       820\n",
            "    COVID-19       0.09      0.84      0.17        69\n",
            "\n",
            "    accuracy                           0.36       889\n",
            "   macro avg       0.53      0.58      0.33       889\n",
            "weighted avg       0.89      0.36      0.46       889\n",
            "\n",
            "<sklearn.metrics._plot.confusion_matrix.ConfusionMatrixDisplay object at 0x7fb6c5544f50>\n"
          ]
        },
        {
          "output_type": "display_data",
          "data": {
            "image/png": "[encoded data removed]",
            "text/plain": [
              "<Figure size 432x288 with 2 Axes>"
            ]
          },
          "metadata": {
            "needs_background": "light"
          }
        }
      ]
    },
    {
      "cell_type": "code",
      "metadata": {
        "id": "DLp65tC40Ozf"
      },
      "source": [
        ""
      ],
      "execution_count": null,
      "outputs": []
    }
  ]
}
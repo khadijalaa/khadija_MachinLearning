{
  "nbformat": 4,
  "nbformat_minor": 0,
  "metadata": {
    "colab": {
      "name": "Masterpro_Time-varying_features_BALANCED.ipynb",
      "provenance": []
    },
    "kernelspec": {
      "name": "python3",
      "display_name": "Python 3"
    },
    "language_info": {
      "name": "python"
    }
  },
  "cells": [
    {
      "cell_type": "code",
      "metadata": {
        "id": "Gd2M-ns-pzwH"
      },
      "source": [
        "#kjør\n",
        "import scipy\n",
        "import sklearn\n",
        "#import matplotlib as plt\n",
        "import matplotlib.pyplot as plt\n",
        "import numpy as np\n",
        "import math as m\n",
        "import pandas as pd\n",
        "import os\n",
        "import librosa\n",
        "from scipy import signal, ndimage\n",
        "from scipy.io.wavfile import read\n",
        "from scipy.signal import periodogram\n",
        "from scipy.ndimage import median_filter\n",
        "from matplotlib import pyplot\n",
        "from numpy import trapz\n",
        "from sklearn.preprocessing import MinMaxScaler\n",
        "from sklearn.feature_selection import RFE\n",
        "from sklearn.ensemble import RandomForestClassifier\n",
        "from sklearn.model_selection import StratifiedKFold\n",
        "from sklearn.metrics import accuracy_score\n",
        "from sklearn.model_selection import train_test_split\n",
        "from sklearn.model_selection import GridSearchCV\n",
        "from sklearn import svm\n",
        "import tensorflow\n",
        "from sklearn.tree import  DecisionTreeClassifier\n",
        "from sklearn.metrics import mean_squared_error,confusion_matrix,classification_report\n",
        "from tqdm import tqdm\n",
        "from python_speech_features import mfcc\n",
        "from python_speech_features import delta\n",
        "import pickle\n",
        "from google.colab import drive ## If running on google colab"
      ],
      "execution_count": null,
      "outputs": []
    },
    {
      "cell_type": "code",
      "metadata": {
        "colab": {
          "base_uri": "https://localhost:8080/"
        },
        "id": "d6prXad5r7WQ",
        "outputId": "a9ffb574-6558-4881-9e03-0e7aba624bbd"
      },
      "source": [
        "pip install python_speech_features"
      ],
      "execution_count": null,
      "outputs": [
        {
          "output_type": "stream",
          "name": "stdout",
          "text": [
            "Collecting python_speech_features\n",
            "  Downloading python_speech_features-0.6.tar.gz (5.6 kB)\n",
            "Building wheels for collected packages: python-speech-features\n",
            "  Building wheel for python-speech-features (setup.py) ... \u001b[?25l\u001b[?25hdone\n",
            "  Created wheel for python-speech-features: filename=python_speech_features-0.6-py3-none-any.whl size=5888 sha256=0f372ad72ca82e8c1b6bebe9604c45ec4630b084dc2364f0c560fb61e084d440\n",
            "  Stored in directory: /root/.cache/pip/wheels/b0/0e/94/28cd6afa3cd5998a63eef99fe31777acd7d758f59cf24839eb\n",
            "Successfully built python-speech-features\n",
            "Installing collected packages: python-speech-features\n",
            "Successfully installed python-speech-features-0.6\n"
          ]
        }
      ]
    },
    {
      "cell_type": "code",
      "metadata": {
        "colab": {
          "base_uri": "https://localhost:8080/"
        },
        "id": "E-7tPQoep_cP",
        "outputId": "af15fc75-eb4f-41dc-f5d7-d4bdf7c384a7"
      },
      "source": [
        "drive.mount('/content/drive/') #IF Using google collab"
      ],
      "execution_count": null,
      "outputs": [
        {
          "output_type": "stream",
          "name": "stdout",
          "text": [
            "Drive already mounted at /content/drive/; to attempt to forcibly remount, call drive.mount(\"/content/drive/\", force_remount=True).\n"
          ]
        }
      ]
    },
    {
      "cell_type": "markdown",
      "metadata": {
        "id": "IgU4LLhEqJwx"
      },
      "source": [
        "PREPROCESSING"
      ]
    },
    {
      "cell_type": "code",
      "metadata": {
        "id": "bqYEcQBsqL9A"
      },
      "source": [
        "#kjør\n",
        "from scipy.io import wavfile\n",
        "import scipy.signal as sps\n",
        "def preprocess_cough(x,fs, cutoff = 6000, normalize = True, filter_ = True, downsample = True):\n",
        "  \"\"\"\n",
        "  Normalize, lowpass filter, and downsample cough samples in a given data folder \n",
        "  \n",
        "  Inputs: x*: (float array) time series cough signal\n",
        "  fs*: (int) sampling frequency of the cough signal in Hz\n",
        "  cutoff: (int) cutoff frequency of lowpass filter\n",
        "  normalize: (bool) normailzation on or off\n",
        "  filter: (bool) filtering on or off\n",
        "  downsample: (bool) downsampling on or off\n",
        "  *: mandatory input\n",
        "  \n",
        "  Outputs: x: (float32 array) new preprocessed cough signal\n",
        "  fs: (int) new sampling frequency\n",
        "  \"\"\"\n",
        "  \n",
        "  fs_downsample = cutoff*2\n",
        "  \n",
        "  #Preprocess Data\n",
        "  if len(x.shape)>1:\n",
        "    x = np.mean(x,axis=1)                          # Convert to mono\n",
        "  if normalize:\n",
        "    x = x/(np.max(np.abs(x))+1e-17)                # Norm to range between -1 to 1\n",
        "  if filter_:\n",
        "    b, a = butter(4, fs_downsample/fs, btype='lowpass') # 4th order butter lowpass filter\n",
        "    x = filtfilt(b, a, x)\n",
        "  if downsample:\n",
        "    #x = scipy.signal.decimate(x, int(fs/fs_downsample)) # Downsample for anti-aliasing\n",
        "    #x, s = librosa.load(x, sr=20000) # Downsample 44.1kHz to 8kHz\n",
        "    number_of_samples = round(len(x) * float(20000) / 48000)\n",
        "    x = sps.resample(x, number_of_samples)\n",
        "  \n",
        "  fs_new = fs_downsample\n",
        "\n",
        "  return np.float32(x), fs_new"
      ],
      "execution_count": null,
      "outputs": []
    },
    {
      "cell_type": "code",
      "metadata": {
        "id": "rz3w9-aEqUd2"
      },
      "source": [
        "#kjør\n",
        "def segment_cough(x,fs, cough_padding=0.1,min_cough_len=0.2, th_l_multiplier = 0.1, th_h_multiplier = 2):\n",
        "    \"\"\"Preprocess the data by segmenting each file into individual coughs using a hysteresis comparator on the signal power\n",
        "    \n",
        "    Inputs:\n",
        "    *x (np.array): cough signal\n",
        "    *fs (float): sampling frequency in Hz\n",
        "    *cough_padding (float): number of seconds added to the beginning and end of each detected cough to make sure coughs are not cut short\n",
        "    *min_cough_length (float): length of the minimum possible segment that can be considered a cough\n",
        "    *th_l_multiplier (float): multiplier of the RMS energy used as a lower threshold of the hysteresis comparator\n",
        "    *th_h_multiplier (float): multiplier of the RMS energy used as a high threshold of the hysteresis comparator\n",
        "    \n",
        "    Outputs:\n",
        "    *coughSegments (np.array of np.arrays): a list of cough signal arrays corresponding to each cough\n",
        "    cough_mask (np.array): an array of booleans that are True at the indices where a cough is in progress\"\"\"\n",
        "                \n",
        "    cough_mask = np.array([False]*len(x))\n",
        "    \n",
        "\n",
        "    #Define hysteresis thresholds\n",
        "    rms = np.sqrt(np.mean(np.square(x)))\n",
        "    seg_th_l = th_l_multiplier * rms\n",
        "    seg_th_h =  th_h_multiplier*rms\n",
        "\n",
        "    #Segment coughs\n",
        "    coughSegments = []\n",
        "    padding = round(fs*cough_padding)\n",
        "    min_cough_samples = round(fs*min_cough_len)\n",
        "    cough_start = 0\n",
        "    cough_end = 0\n",
        "    cough_in_progress = False\n",
        "    tolerance = round(0.01*fs)\n",
        "    below_th_counter = 0\n",
        "    \n",
        "    for i, sample in enumerate(x**2):\n",
        "        if cough_in_progress:\n",
        "            if sample<seg_th_l:\n",
        "                below_th_counter += 1\n",
        "                if below_th_counter > tolerance:\n",
        "                    cough_end = i+padding if (i+padding < len(x)) else len(x)-1\n",
        "                    cough_in_progress = False\n",
        "                    if (cough_end+1-cough_start-2*padding>min_cough_samples):\n",
        "                        coughSegments.append(x[cough_start:cough_end+1])\n",
        "                        cough_mask[cough_start:cough_end+1] = True\n",
        "            elif i == (len(x)-1):\n",
        "                cough_end=i\n",
        "                cough_in_progress = False\n",
        "                if (cough_end+1-cough_start-2*padding>min_cough_samples):\n",
        "                    coughSegments.append(x[cough_start:cough_end+1])\n",
        "            else:\n",
        "                below_th_counter = 0\n",
        "        else:\n",
        "            if sample>seg_th_h:\n",
        "                cough_start = i-padding if (i-padding >=0) else 0\n",
        "                cough_in_progress = True\n",
        "    \n",
        "    return coughSegments, cough_mask"
      ],
      "execution_count": null,
      "outputs": []
    },
    {
      "cell_type": "code",
      "metadata": {
        "id": "ndghghD5q0b8"
      },
      "source": [
        "\n",
        "import csv\n",
        "\n",
        "ver='/content/drive/MyDrive/Colab Notebooks/ORGANIZE/created_csv/file.csv'\n",
        "with open(ver, 'rt') as f:\n",
        "    reader = csv.reader(f)\n",
        "    verified_data = list(reader)"
      ],
      "execution_count": null,
      "outputs": []
    },
    {
      "cell_type": "markdown",
      "metadata": {
        "id": "49-cKI1bdfwL"
      },
      "source": [
        "FEATURE EXTRACTION"
      ]
    },
    {
      "cell_type": "code",
      "metadata": {
        "id": "AuXysU-Sqerk"
      },
      "source": [
        "from scipy.signal import butter,filtfilt\n",
        "from python_speech_features import mfcc\n",
        "from python_speech_features import delta\n",
        "directory='/content/drive/MyDrive/Colab Notebooks/ORGANIZE/balanced_data/'\n",
        "sum=0\n",
        "mean_length=0\n",
        "#f_down=24000\n",
        "concat_feat=[]\n",
        "q=0\n",
        "features_list=[]\n",
        "win_len=0.01\n",
        "labelVector=[]\n",
        "COVID=1\n",
        "HEALTHY=0\n",
        "s=0\n",
        "segment=[]\n",
        "all_segments=[]\n",
        "index_name=verified_data[0].index('uuid')\n",
        "index_status=verified_data[0].index('status')\n",
        "for filename in os.listdir(directory):\n",
        "  segment=[]\n",
        "  all_segments=[]\n",
        "  #fs, signal = scipy.io.wavfile.read(directory+filename)\n",
        "  signal,sr=librosa.load(directory+filename,sr =20000)\n",
        "  #signal_pre=2.*(signal - np.min(signal))/np.ptp(signal)-1\n",
        "  #signal_pre,fs_pre=preprocess_cough(signal,fs=sr, cutoff = 10000, normalize = True, filter_ =False, downsample = False)\n",
        "  signal_pre=signal\n",
        "  segment,mask=segment_cough(signal_pre,fs_pre,cough_padding=0.1,min_cough_len=0.1, th_l_multiplier = 0.1, th_h_multiplier = 2)\n",
        "  f_down=sr\n",
        "  if len(segment)>1:\n",
        "    for line in segment:\n",
        "      all_segments=np.append(all_segments,line) #all the segments in one row from each file, one segment=one cough \n",
        "  elif len(segment)==1:\n",
        "    all_segments=np.array(segment[0])\n",
        "  if len(all_segments) < (f_down*0.5):\n",
        "    missing_samples = int((f_down*0.5) - len(all_segments))\n",
        "    all_segments = np.pad(all_segments, (0, missing_samples), \"constant\", constant_values=0)\n",
        "  elif len(all_segments) > (f_down*0.5):\n",
        "    all_segments = all_segments[: int(f_down*0.5)]\n",
        "  mfcc_feat = mfcc(all_segments, f_down, numcep=26, nfft=4096, winlen=win_len, winstep=win_len/2)\n",
        "  delta_feat = delta(mfcc_feat, 2)\n",
        "  delta_delta_feat = delta(delta_feat, 2)\n",
        "  concat_feat = np.concatenate((mfcc_feat, delta_feat, delta_delta_feat), axis=1)\n",
        "  features_list.append(concat_feat)\n",
        "  sum+=len(segment[0])/f_down\n",
        "  for i in range(1,len(verified_data)):\n",
        "    if verified_data[i][index_name]==filename[:36]:\n",
        "      if verified_data[i][index_status]=='COVID-19':\n",
        "        labelVector.append(COVID)\n",
        "      elif verified_data[i][index_status]=='healthy':\n",
        "        labelVector.append(HEALTHY)\n",
        "  #print(sum)\n",
        "\n",
        "mean_length=sum/len(os.listdir(directory))"
      ],
      "execution_count": null,
      "outputs": []
    },
    {
      "cell_type": "code",
      "metadata": {
        "colab": {
          "base_uri": "https://localhost:8080/"
        },
        "id": "6XOMvip9di8r",
        "outputId": "49d15258-dd61-41b3-b5c9-1453fa2b90f4"
      },
      "source": [
        "print(mean_length)\n",
        "Featuress=np.array(features_list)\n",
        "print(Featuress.shape)\n",
        "print(len(labelVector))"
      ],
      "execution_count": null,
      "outputs": [
        {
          "output_type": "stream",
          "name": "stdout",
          "text": [
            "0.546121402877698\n",
            "(1390, 99, 78)\n",
            "1390\n"
          ]
        }
      ]
    },
    {
      "cell_type": "code",
      "metadata": {
        "id": "AZRvyWG_fVII"
      },
      "source": [
        "X_test=[]\n",
        "X_train=[]\n",
        "X_val=[]\n",
        "y_test=[]\n",
        "y_train=[]\n",
        "y_val=[]\n",
        "X_train, X_test, y_train, y_test = train_test_split(Featuress, labelVector, test_size=0.20, stratify=labelVector)\n",
        "#Split into training and validation sets\n",
        "X_test, X_val, y_test, y_val = train_test_split(X_test, y_test, test_size=0.5, stratify=y_test)"
      ],
      "execution_count": null,
      "outputs": []
    },
    {
      "cell_type": "code",
      "metadata": {
        "id": "DV70fCiGd6dJ"
      },
      "source": [
        "from sklearn.preprocessing import StandardScaler\n",
        "scaler=StandardScaler()\n",
        "X_train = scaler.fit_transform(X_train.reshape(-1, X_train.shape[-1])).reshape(X_train.shape)\n",
        "\n",
        "# scale the test dataset\n",
        "X_test = scaler.transform(X_test.reshape(-1, X_test.shape[-1])).reshape(X_test.shape)\n",
        "X_val=scaler.transform(X_val.reshape(-1, X_val.shape[-1])).reshape(X_val.shape)\n",
        "\n"
      ],
      "execution_count": null,
      "outputs": []
    },
    {
      "cell_type": "code",
      "metadata": {
        "colab": {
          "base_uri": "https://localhost:8080/"
        },
        "id": "tvauIh-sfDY-",
        "outputId": "3128c533-355a-4af2-856b-287ea6790598"
      },
      "source": [
        ""
      ],
      "execution_count": null,
      "outputs": [
        {
          "output_type": "stream",
          "name": "stdout",
          "text": [
            "1390\n"
          ]
        }
      ]
    },
    {
      "cell_type": "code",
      "metadata": {
        "colab": {
          "base_uri": "https://localhost:8080/"
        },
        "id": "dqPihjssVfor",
        "outputId": "e7e39f0e-bfa9-45e4-d52a-763acdba0534"
      },
      "source": [
        "print(X_train.shape)\n",
        "print(X_test.shape)\n",
        "print(X_val.shape)"
      ],
      "execution_count": null,
      "outputs": [
        {
          "output_type": "stream",
          "name": "stdout",
          "text": [
            "(1112, 99, 78)\n",
            "(139, 99, 78)\n",
            "(139, 99, 78)\n"
          ]
        }
      ]
    },
    {
      "cell_type": "markdown",
      "metadata": {
        "id": "37sFmRbufid_"
      },
      "source": [
        "LSTM-model"
      ]
    },
    {
      "cell_type": "code",
      "metadata": {
        "id": "oLVCtQpLfgyR"
      },
      "source": [
        "from keras.layers import LSTM\n",
        "from keras.models import Sequential\n",
        "from keras.layers import Dense, Conv1D, Flatten, Conv2D, MaxPooling1D,MaxPool2D,Dropout,Activation, MaxPooling2D\n",
        "from keras.wrappers.scikit_learn import KerasClassifier\n",
        "from keras.constraints import maxnorm\n",
        "from tensorflow import keras\n",
        "from tensorflow.keras import layers\n",
        "X_train=np.array(X_train)\n",
        "y_train=np.array(y_train)\n",
        "\n",
        "X_val=np.array(X_val)\n",
        "y_val=np.array(y_val)\n"
      ],
      "execution_count": null,
      "outputs": []
    },
    {
      "cell_type": "code",
      "metadata": {
        "id": "BJRXotZbfpqG"
      },
      "source": [
        "input_shape=(X_train.shape[1],X_train.shape[2])\n",
        "#For coughvid features:\n",
        "LSTM_model = Sequential()\n",
        "LSTM_model.add(LSTM(32,input_shape=input_shape))\n",
        "#for coughvid\n",
        "LSTM_model.add(Dropout(0.2))\n",
        "LSTM_model.add(Dense(32,activation='relu'))\n",
        "LSTM_model.add(Dense(1, activation='sigmoid'))\n",
        "LSTM_model._name = 'lstm_model'\n",
        "LSTM_model.compile(optimizer=keras.optimizers.Adam(learning_rate=0.001),loss='binary_crossentropy',metrics=['accuracy'])"
      ],
      "execution_count": null,
      "outputs": []
    },
    {
      "cell_type": "code",
      "metadata": {
        "colab": {
          "base_uri": "https://localhost:8080/"
        },
        "id": "cpltw_iQf3sr",
        "outputId": "b18e23a5-116b-4c36-c169-131f08cca6d1"
      },
      "source": [
        "\n",
        "import tensorflow as tf\n",
        "es = tf.keras.callbacks.EarlyStopping(monitor='val_loss', mode='min', verbose=0, patience=25)\n",
        "LSTM_model.fit(X_train,y_train,validation_data=(X_val,y_val),batch_size=64,epochs=100,callbacks=es)"
      ],
      "execution_count": null,
      "outputs": [
        {
          "output_type": "stream",
          "name": "stdout",
          "text": [
            "Epoch 1/100\n",
            "18/18 [==============================] - 3s 69ms/step - loss: 0.6994 - accuracy: 0.5099 - val_loss: 0.6999 - val_accuracy: 0.5180\n",
            "Epoch 2/100\n",
            "18/18 [==============================] - 1s 42ms/step - loss: 0.6786 - accuracy: 0.5701 - val_loss: 0.7011 - val_accuracy: 0.4820\n",
            "Epoch 3/100\n",
            "18/18 [==============================] - 1s 41ms/step - loss: 0.6619 - accuracy: 0.6133 - val_loss: 0.7036 - val_accuracy: 0.4820\n",
            "Epoch 4/100\n",
            "18/18 [==============================] - 1s 41ms/step - loss: 0.6514 - accuracy: 0.6268 - val_loss: 0.7065 - val_accuracy: 0.4748\n",
            "Epoch 5/100\n",
            "18/18 [==============================] - 1s 42ms/step - loss: 0.6329 - accuracy: 0.6835 - val_loss: 0.7088 - val_accuracy: 0.4748\n",
            "Epoch 6/100\n",
            "18/18 [==============================] - 1s 43ms/step - loss: 0.6095 - accuracy: 0.7140 - val_loss: 0.7125 - val_accuracy: 0.5108\n",
            "Epoch 7/100\n",
            "18/18 [==============================] - 1s 43ms/step - loss: 0.5890 - accuracy: 0.7293 - val_loss: 0.7169 - val_accuracy: 0.5180\n",
            "Epoch 8/100\n",
            "18/18 [==============================] - 1s 43ms/step - loss: 0.5552 - accuracy: 0.7509 - val_loss: 0.7234 - val_accuracy: 0.4892\n",
            "Epoch 9/100\n",
            "18/18 [==============================] - 1s 41ms/step - loss: 0.5176 - accuracy: 0.7815 - val_loss: 0.7287 - val_accuracy: 0.5108\n",
            "Epoch 10/100\n",
            "18/18 [==============================] - 1s 43ms/step - loss: 0.4733 - accuracy: 0.8156 - val_loss: 0.7401 - val_accuracy: 0.5396\n",
            "Epoch 11/100\n",
            "18/18 [==============================] - 1s 42ms/step - loss: 0.4348 - accuracy: 0.8273 - val_loss: 0.7644 - val_accuracy: 0.5612\n",
            "Epoch 12/100\n",
            "18/18 [==============================] - 1s 42ms/step - loss: 0.3762 - accuracy: 0.8579 - val_loss: 0.7865 - val_accuracy: 0.5899\n",
            "Epoch 13/100\n",
            "18/18 [==============================] - 1s 43ms/step - loss: 0.3324 - accuracy: 0.8822 - val_loss: 0.8502 - val_accuracy: 0.5612\n",
            "Epoch 14/100\n",
            "18/18 [==============================] - 1s 43ms/step - loss: 0.2837 - accuracy: 0.8975 - val_loss: 0.9179 - val_accuracy: 0.5612\n",
            "Epoch 15/100\n",
            "18/18 [==============================] - 1s 43ms/step - loss: 0.2289 - accuracy: 0.9344 - val_loss: 0.9883 - val_accuracy: 0.5612\n",
            "Epoch 16/100\n",
            "18/18 [==============================] - 1s 43ms/step - loss: 0.1883 - accuracy: 0.9478 - val_loss: 1.0748 - val_accuracy: 0.5252\n",
            "Epoch 17/100\n",
            "18/18 [==============================] - 1s 42ms/step - loss: 0.1574 - accuracy: 0.9487 - val_loss: 1.1538 - val_accuracy: 0.5540\n",
            "Epoch 18/100\n",
            "18/18 [==============================] - 1s 43ms/step - loss: 0.1388 - accuracy: 0.9568 - val_loss: 1.2547 - val_accuracy: 0.5396\n",
            "Epoch 19/100\n",
            "18/18 [==============================] - 1s 43ms/step - loss: 0.1173 - accuracy: 0.9676 - val_loss: 1.3949 - val_accuracy: 0.5252\n",
            "Epoch 20/100\n",
            "18/18 [==============================] - 1s 42ms/step - loss: 0.0847 - accuracy: 0.9820 - val_loss: 1.4577 - val_accuracy: 0.5612\n",
            "Epoch 21/100\n",
            "18/18 [==============================] - 1s 42ms/step - loss: 0.0764 - accuracy: 0.9820 - val_loss: 1.5428 - val_accuracy: 0.5396\n",
            "Epoch 22/100\n",
            "18/18 [==============================] - 1s 42ms/step - loss: 0.0475 - accuracy: 0.9919 - val_loss: 1.7063 - val_accuracy: 0.5324\n",
            "Epoch 23/100\n",
            "18/18 [==============================] - 1s 43ms/step - loss: 0.0458 - accuracy: 0.9910 - val_loss: 1.7715 - val_accuracy: 0.5612\n",
            "Epoch 24/100\n",
            "18/18 [==============================] - 1s 42ms/step - loss: 0.0350 - accuracy: 0.9928 - val_loss: 1.8426 - val_accuracy: 0.5396\n",
            "Epoch 25/100\n",
            "18/18 [==============================] - 1s 42ms/step - loss: 0.0333 - accuracy: 0.9946 - val_loss: 1.8273 - val_accuracy: 0.5540\n",
            "Epoch 26/100\n",
            "18/18 [==============================] - 1s 43ms/step - loss: 0.0243 - accuracy: 0.9973 - val_loss: 2.0488 - val_accuracy: 0.5540\n"
          ]
        },
        {
          "output_type": "execute_result",
          "data": {
            "text/plain": [
              "<keras.callbacks.History at 0x7fd2b934a350>"
            ]
          },
          "metadata": {},
          "execution_count": 24
        }
      ]
    },
    {
      "cell_type": "code",
      "metadata": {
        "colab": {
          "base_uri": "https://localhost:8080/",
          "height": 457
        },
        "id": "7poBdnYJhaop",
        "outputId": "ce6ee763-6035-4cc9-e248-aaa74564cc0c"
      },
      "source": [
        "from sklearn.metrics import mean_squared_error,confusion_matrix,classification_report\n",
        "from sklearn.metrics import ConfusionMatrixDisplay\n",
        "y_pred_LSTM=0\n",
        "y_pred_LSTM=LSTM_model.predict(X_test)\n",
        "y_pred_LSTM = (y_pred_LSTM > 0.5)\n",
        "cm_LSTM = confusion_matrix(y_test,y_pred_LSTM)\n",
        "display_labels=['healthy','COVID-19']\n",
        "conf_matrix = confusion_matrix(y_test, y_pred_LSTM)\n",
        "#print(Y_predict)\n",
        "print(classification_report(y_test,y_pred_LSTM,target_names=display_labels))\n",
        "print(ConfusionMatrixDisplay(cm_LSTM,display_labels=display_labels).plot(values_format='.0f'))"
      ],
      "execution_count": null,
      "outputs": [
        {
          "output_type": "stream",
          "name": "stdout",
          "text": [
            "              precision    recall  f1-score   support\n",
            "\n",
            "     healthy       0.54      0.64      0.58        70\n",
            "    COVID-19       0.55      0.43      0.48        69\n",
            "\n",
            "    accuracy                           0.54       139\n",
            "   macro avg       0.54      0.54      0.53       139\n",
            "weighted avg       0.54      0.54      0.53       139\n",
            "\n",
            "<sklearn.metrics._plot.confusion_matrix.ConfusionMatrixDisplay object at 0x7fd2b8a92590>\n"
          ]
        },
        {
          "output_type": "display_data",
          "data": {
            "image/png": "[encoded data removed]",
            "text/plain": [
              "<Figure size 432x288 with 2 Axes>"
            ]
          },
          "metadata": {
            "needs_background": "light"
          }
        }
      ]
    },
    {
      "cell_type": "code",
      "metadata": {
        "colab": {
          "base_uri": "https://localhost:8080/",
          "height": 314
        },
        "id": "-JXx5UHXPx_D",
        "outputId": "6ed6fa4e-81eb-4e2f-a325-a100ac9cdfef"
      },
      "source": [
        "ns_probs = [0 for _ in range(len(y_test))]\n",
        "# keep probabilities for the positive outcome only\n",
        "y_pred_LSTM=LSTM_model.predict(X_test)\n",
        "lr_probs= y_pred_LSTM\n",
        "# calculate scores\n",
        "ns_auc = roc_auc_score(y_test, ns_probs)\n",
        "lr_auc = roc_auc_score(y_test, lr_probs)\n",
        "# summarize scores\n",
        "print('No Skill: ROC AUC=%.3f' % (ns_auc))\n",
        "print('LSTM: ROC AUC=%.3f' % (lr_auc))\n",
        "# calculate roc curves\n",
        "ns_fpr, ns_tpr, _ = roc_curve(y_test, ns_probs)\n",
        "lr_fpr, lr_tpr, _ = roc_curve(y_test, lr_probs)\n",
        "# plot the roc curve for the model\n",
        "pyplot.plot(ns_fpr, ns_tpr, linestyle='--', label='No Skill')\n",
        "pyplot.plot(lr_fpr, lr_tpr, marker='.', label='LSTM')\n",
        "# axis labels\n",
        "pyplot.xlabel('False Positive Rate')\n",
        "pyplot.ylabel('True Positive Rate')\n",
        "# show the legend\n",
        "pyplot.legend()\n",
        "# show the plot\n",
        "pyplot.show()"
      ],
      "execution_count": null,
      "outputs": [
        {
          "output_type": "stream",
          "name": "stdout",
          "text": [
            "No Skill: ROC AUC=0.500\n",
            "LSTM: ROC AUC=0.609\n"
          ]
        },
        {
          "output_type": "display_data",
          "data": {
            "image/png": "[encoded data removed]",
            "text/plain": [
              "<Figure size 432x288 with 1 Axes>"
            ]
          },
          "metadata": {
            "needs_background": "light"
          }
        }
      ]
    },
    {
      "cell_type": "code",
      "metadata": {
        "id": "kHoxP9LEQTNx"
      },
      "source": [
        "from sklearn.metrics import precision_recall_curve,roc_curve\n",
        "from sklearn.metrics import f1_score,roc_auc_score\n",
        "#plot_precision_recall_plot(LSTM_model,X_test,y_test)"
      ],
      "execution_count": null,
      "outputs": []
    },
    {
      "cell_type": "code",
      "metadata": {
        "id": "ux9GFEIWSudG"
      },
      "source": [
        "LSTM_model.save('mymodal_f3.h5')"
      ],
      "execution_count": null,
      "outputs": []
    }
  ]
}